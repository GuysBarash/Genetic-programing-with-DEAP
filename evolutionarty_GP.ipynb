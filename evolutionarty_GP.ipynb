{
  "nbformat": 4,
  "nbformat_minor": 0,
  "metadata": {
    "colab": {
      "name": "evolutionarty_GP.ipynb",
      "provenance": [],
      "collapsed_sections": [],
      "include_colab_link": true
    },
    "kernelspec": {
      "name": "python3",
      "display_name": "Python 3"
    }
  },
  "cells": [
    {
      "cell_type": "markdown",
      "metadata": {
        "id": "view-in-github",
        "colab_type": "text"
      },
      "source": [
        "<a href=\"https://colab.research.google.com/github/GuysBarash/Genetic-programing-with-DEAP/blob/master/evolutionarty_GP.ipynb\" target=\"_parent\"><img src=\"https://colab.research.google.com/assets/colab-badge.svg\" alt=\"Open In Colab\"/></a>"
      ]
    },
    {
      "cell_type": "code",
      "metadata": {
        "id": "WmyuzuCRg27B",
        "colab_type": "code",
        "colab": {}
      },
      "source": [
        "import sys\n",
        "colab_mode = 'google.colab' in sys.modules"
      ],
      "execution_count": 0,
      "outputs": []
    },
    {
      "cell_type": "code",
      "metadata": {
        "id": "tsxgK6gM6ydk",
        "colab_type": "code",
        "outputId": "e2026e1a-e2bc-456d-b0b4-b5cda370c3c9",
        "colab": {
          "base_uri": "https://localhost:8080/",
          "height": 212
        }
      },
      "source": [
        "if colab_mode:\n",
        "  !apt install libgraphviz-dev\n",
        "  !pip install pygraphviz\n",
        "  import pygraphviz as pgv\n",
        "  !pip install DEAP"
      ],
      "execution_count": 22,
      "outputs": [
        {
          "output_type": "stream",
          "text": [
            "Reading package lists... Done\n",
            "Building dependency tree       \n",
            "Reading state information... Done\n",
            "libgraphviz-dev is already the newest version (2.40.1-2).\n",
            "The following package was automatically installed and is no longer required:\n",
            "  libnvidia-common-440\n",
            "Use 'apt autoremove' to remove it.\n",
            "0 upgraded, 0 newly installed, 0 to remove and 43 not upgraded.\n",
            "Requirement already satisfied: pygraphviz in /usr/local/lib/python3.6/dist-packages (1.5)\n",
            "Requirement already satisfied: DEAP in /usr/local/lib/python3.6/dist-packages (1.3.1)\n",
            "Requirement already satisfied: numpy in /usr/local/lib/python3.6/dist-packages (from DEAP) (1.18.5)\n"
          ],
          "name": "stdout"
        }
      ]
    },
    {
      "cell_type": "code",
      "metadata": {
        "id": "WY0CnGmQ7dAM",
        "colab_type": "code",
        "colab": {}
      },
      "source": [
        "import os\n",
        "import random\n",
        "import operator\n",
        "import numpy as np\n",
        "import pandas as pd\n",
        "from datetime import datetime\n",
        "\n",
        "from deap import algorithms\n",
        "from deap import base\n",
        "from deap import creator\n",
        "from deap import tools\n",
        "from deap import gp\n",
        "from deap.tools import History\n",
        "\n",
        "from IPython.display import display\n",
        "import matplotlib.pyplot as plt\n",
        "\n",
        "from sklearn import preprocessing\n",
        "from sklearn.metrics import accuracy_score, recall_score, precision_score, fbeta_score"
      ],
      "execution_count": 0,
      "outputs": []
    },
    {
      "cell_type": "markdown",
      "metadata": {
        "id": "evbjvSgS7l26",
        "colab_type": "text"
      },
      "source": [
        "# Generate Data"
      ]
    },
    {
      "cell_type": "markdown",
      "metadata": {
        "id": "W0Q0nKbz6JwV",
        "colab_type": "text"
      },
      "source": [
        "Fetch data"
      ]
    },
    {
      "cell_type": "code",
      "metadata": {
        "id": "fJMGT-U-7ovH",
        "colab_type": "code",
        "outputId": "418ed8bc-cf23-4c1c-b984-ec9959055974",
        "colab": {
          "base_uri": "https://localhost:8080/",
          "height": 52
        }
      },
      "source": [
        "if not colab_mode:\n",
        "  train_set = r\"C:\\school\\evolutionary\\ex2\\train.csv\"\n",
        "  vld_set = r\"C:\\school\\evolutionary\\ex2\\validate.csv\"\n",
        "  test_set = r\"C:\\school\\evolutionary\\ex2\\test.csv\"\n",
        "  print(\"loading trains set.\")\n",
        "  rawdatadf = pd.read_csv(train_set, header=None)\n",
        "  print(\"loading VLD set.\")\n",
        "  rawvlddf = pd.read_csv(vld_set, header=None)\n",
        "  print(\"loading test set.\")\n",
        "  rawtestdf = pd.read_csv(test_set, header=None)\n",
        "else:\n",
        "  from google.colab import drive\n",
        "\n",
        "  drive.mount('/content/drive')\n",
        "  base_folder = r'/content/drive/My Drive/colab_storage'\n",
        "  train_set = os.path.join(base_folder ,'train.csv')\n",
        "  vld_set = os.path.join(base_folder ,'validate.csv')\n",
        "  test_set = os.path.join(base_folder ,'test.csv')\n",
        "  print(\"Loading train set..\")\n",
        "  rawdatadf = pd.read_csv(train_set, header=None)\n",
        "  print(\"Loading validation set.\")\n",
        "  rawvlddf = pd.read_csv(vld_set, header=None)\n",
        "  print(\"Loading test set.\")\n",
        "  rawtestdf = pd.read_csv(test_set, header=None)"
      ],
      "execution_count": 0,
      "outputs": [
        {
          "output_type": "stream",
          "text": [
            "Drive already mounted at /content/drive; to attempt to forcibly remount, call drive.mount(\"/content/drive\", force_remount=True).\n",
            "Loading train set..\n"
          ],
          "name": "stdout"
        }
      ]
    },
    {
      "cell_type": "markdown",
      "metadata": {
        "id": "6-V2g0d73hBo",
        "colab_type": "text"
      },
      "source": [
        "Choose only last n tuples"
      ]
    },
    {
      "cell_type": "code",
      "metadata": {
        "id": "kY9Cn4sL3cWn",
        "colab_type": "code",
        "colab": {}
      },
      "source": [
        "last_n_samples = 15\n",
        "\n",
        "def get_last_n_tuples_from_cols(n, cols):\n",
        "    return cols[-4 * n:]\n",
        "\n",
        "\n",
        "datacols = (rawdatadf.columns[1:])\n",
        "datacols = get_last_n_tuples_from_cols(last_n_samples, datacols)\n",
        "datadf = pd.DataFrame(columns=datacols, index=range(rawdatadf.shape[0]), data=rawdatadf[datacols])\n",
        "vld_df = pd.DataFrame(columns=datacols, index=range(rawvlddf.shape[0]), data=rawvlddf[datacols])\n",
        "test_df = pd.DataFrame(columns=datacols, index=range(rawtestdf.shape[0]), data=rawtestdf[datacols])"
      ],
      "execution_count": 0,
      "outputs": []
    },
    {
      "cell_type": "markdown",
      "metadata": {
        "id": "6mcd57Tt6O8r",
        "colab_type": "text"
      },
      "source": [
        "Normalize data"
      ]
    },
    {
      "cell_type": "code",
      "metadata": {
        "id": "8IjEU7axjdZ3",
        "colab_type": "code",
        "colab": {}
      },
      "source": [
        "ldf = datadf.copy()\n",
        "mean_of_df = ldf.mean(axis=0)\n",
        "std_of_df = ldf.std(axis=0)\n",
        "ldf -= mean_of_df\n",
        "ldf /= std_of_df\n",
        "normal = pd.Series(index=ldf.columns, data=np.fmax(-ldf.min(axis=0), ldf.max(axis=0)))\n",
        "ldf /= normal\n",
        "\n",
        "def normalize(dataset):\n",
        "  dataset -= mean_of_df\n",
        "  dataset /= std_of_df\n",
        "  # dataset /= normal\n",
        "  return dataset\n",
        "\n",
        "datadf = normalize(datadf)\n",
        "vld_df = normalize(vld_df)\n",
        "test_df = normalize(test_df)\n",
        "\n",
        "labels = rawdatadf[rawdatadf.columns[0]]\n",
        "vld_labels = rawvlddf[rawvlddf.columns[0]]\n",
        "test_labels = rawtestdf[rawtestdf.columns[0]]\n",
        "labelcol = 'LABEL'\n",
        "datadf[labelcol] = labels\n",
        "vld_df[labelcol] = vld_labels\n",
        "datadf[labelcol] = labels\n",
        "test_df[labelcol] = test_labels"
      ],
      "execution_count": 0,
      "outputs": []
    },
    {
      "cell_type": "markdown",
      "metadata": {
        "id": "-uMpwCME3rij",
        "colab_type": "text"
      },
      "source": [
        "Display"
      ]
    },
    {
      "cell_type": "code",
      "metadata": {
        "id": "u59vqlPP71f6",
        "colab_type": "code",
        "colab": {}
      },
      "source": [
        "top_n = 10\n",
        "print(\"Train set.\")\n",
        "display(datadf.head(top_n))\n",
        "print(f\"\\nTrain Set: Displaying top {top_n} out of {len(datadf)}.\")\n",
        "print(\"\\n\\n\")\n",
        "\n",
        "print(\"Validation set.\")\n",
        "display(vld_df.head(top_n))\n",
        "print(f\"\\nValidation Set: Displaying top {top_n} out of {len(vld_df)}.\")\n",
        "print(\"\\n\\n\")\n",
        "\n",
        "print(\"test set.\")\n",
        "display(test_df.head(top_n))\n",
        "print(f\"\\Test Set: Displaying top {top_n} out of {len(test_df)}.\")\n",
        "print(\"\\n\\n\")"
      ],
      "execution_count": 0,
      "outputs": []
    },
    {
      "cell_type": "markdown",
      "metadata": {
        "id": "qmd22xRp3tjX",
        "colab_type": "text"
      },
      "source": [
        "Data folding. \n",
        "\n",
        "\n",
        "*   Sample: an entry from the data\n",
        "*   event: number of items in each sample (15 as defualt) \n",
        "*   feature: number of measuring at each event (4 at defualt) \n",
        "\n",
        "After folding:                                           \n",
        "X = (#samples x events x features).                \n",
        "y = [#is_label_0, is_label_1]"
      ]
    },
    {
      "cell_type": "code",
      "metadata": {
        "id": "S0FOcOSi1Vj7",
        "colab_type": "code",
        "colab": {}
      },
      "source": [
        "def fold_data(dataset, features=4):\n",
        "    entries_per_sample = int(len(datacols) / features)\n",
        "    samples = dataset.shape[0]\n",
        "    X = np.zeros((samples, entries_per_sample, features))\n",
        "    for pos in range(entries_per_sample):\n",
        "        entry = dataset[datacols[features * pos:features * pos + features]]\n",
        "        X[:, pos, :] = entry\n",
        "    y = pd.get_dummies(dataset[labelcol])\n",
        "    return X, y\n",
        "\n",
        "number_of_features = 4\n",
        "window_size = int(len(datacols) / number_of_features)\n",
        "X , y =  fold_data(datadf, number_of_features)\n",
        "\n",
        "print(f\"X: {X.shape}\")\n",
        "print(f\"y: {y.shape}\")\n",
        "print(f\"Example of a single sample:\")\n",
        "display(pd.DataFrame(data=X[0,:,:]))"
      ],
      "execution_count": 0,
      "outputs": []
    },
    {
      "cell_type": "code",
      "metadata": {
        "id": "RKKAl_Yg1aXb",
        "colab_type": "code",
        "colab": {}
      },
      "source": [
        "X_train, y_train  = fold_data(datadf.iloc[:100000], number_of_features)\n",
        "X_vld , y_vld  = fold_data(vld_df, number_of_features)\n",
        "X_test , y_test  = fold_data(test_df, number_of_features)\n",
        "# X_train, X_vld, y_train, y_vld = train_test_split(X, y, test_size=0.2)\n",
        "# X_vld, X_test, y_vld, y_test = train_test_split(X_vld, y_vld, test_size=0.01)\n",
        "\n",
        "print(f\"Train\\t: {X_train.shape}\")\n",
        "print(f\"VLD\\t: {X_vld.shape}\")\n",
        "print(f\"Test\\t: {X_test.shape}\")\n",
        "print(f\"original X: {X.shape}\")"
      ],
      "execution_count": 0,
      "outputs": []
    },
    {
      "cell_type": "code",
      "metadata": {
        "id": "-RQPINF_3C5g",
        "colab_type": "code",
        "colab": {}
      },
      "source": [
        "X_source = X_train\n",
        "y_source = y_train\n",
        "\n",
        "labels_1_idx = y_source[y_source[1] == 1].index\n",
        "labels_0_idx = y_source[y_source[1] == 0].index\n",
        "\n",
        "print(f\"Positives: {labels_1_idx.shape[0]}\")\n",
        "print(f\"Negatives: {labels_0_idx.shape[0]}\")\n",
        "\n",
        "all_positive = X_source[labels_1_idx,:,:]\n",
        "all_negative = X_source[labels_0_idx,:,:]\n",
        "all_positive_mean = all_positive.mean(axis=0)\n",
        "all_negative_mean = all_negative.mean(axis=0)\n",
        "\n",
        "\n",
        "positive_df = pd.DataFrame(index=range(all_positive_mean.shape[0]),data=all_positive_mean)\n",
        "print(\"POSITIVES\")\n",
        "display(positive_df)\n",
        "\n",
        "print(\"\")\n",
        "print(\"\")\n",
        "negative_df = pd.DataFrame(index=range(all_negative_mean.shape[0]),data=all_negative_mean)\n",
        "print(\"POSITIVES\")\n",
        "display(negative_df)"
      ],
      "execution_count": 0,
      "outputs": []
    },
    {
      "cell_type": "code",
      "metadata": {
        "id": "H2Q_hdak3WRJ",
        "colab_type": "code",
        "colab": {}
      },
      "source": [
        "  fig_limits = (-0.2,+0.2)\n",
        "  plt.figure(figsize=(20, 10))\n",
        "  plt.figure(1)\n",
        "  plt.subplot(411)\n",
        "  plt.plot(positive_df[0], color='red', label='positive')\n",
        "  plt.plot(negative_df[0], color='black', label='negative')\n",
        "  plt.ylim(fig_limits[0], fig_limits[1])\n",
        "  plt.subplot(412)\n",
        "  plt.plot(positive_df[1], color='red', label='positive')\n",
        "  plt.plot(negative_df[1], color='black', label='negative')\n",
        "  plt.ylim(fig_limits[0], fig_limits[1])\n",
        "  plt.subplot(413)\n",
        "  plt.plot(positive_df[2], color='red', label='positive')\n",
        "  plt.plot(negative_df[2], color='black', label='negative')\n",
        "  plt.ylim(fig_limits[0], fig_limits[1])\n",
        "  plt.subplot(414)\n",
        "  plt.plot(positive_df[3], color='red', label='positive')\n",
        "  plt.plot(negative_df[3], color='black', label='negative')\n",
        "  plt.ylim(fig_limits[0], fig_limits[1])\n",
        "  plt.legend()\n",
        "  _ = plt.plot()\n",
        "\n",
        "  for idx in range(4):\n",
        "    print(f\"[POS][Col {idx}]: {positive_df[idx].mean():.3f}+{positive_df[idx].std():.3f}\")\n",
        "    print(f\"[NEG][Col {idx}]: {negative_df[idx].mean():.3f}+{negative_df[idx].std():.3f}\")\n",
        "    print(\"\")"
      ],
      "execution_count": 0,
      "outputs": []
    },
    {
      "cell_type": "markdown",
      "metadata": {
        "id": "NlknpkuH8NmO",
        "colab_type": "text"
      },
      "source": [
        "# Defining evolution parameters"
      ]
    },
    {
      "cell_type": "markdown",
      "metadata": {
        "id": "rObNRG2ehpWT",
        "colab_type": "text"
      },
      "source": [
        "register operands"
      ]
    },
    {
      "cell_type": "code",
      "metadata": {
        "id": "nLyFM_iihu2a",
        "colab_type": "code",
        "colab": {}
      },
      "source": [
        "def activation(a):\n",
        "    return np.tanh(a)\n",
        "\n",
        "\n",
        "def neg(a):\n",
        "    return -a\n",
        "\n",
        "\n",
        "def double(a):\n",
        "    return 2.0 * a\n",
        "\n",
        "\n",
        "def half(a):\n",
        "    return 0.5 * a"
      ],
      "execution_count": 0,
      "outputs": []
    },
    {
      "cell_type": "code",
      "metadata": {
        "id": "irN81IS_h5q0",
        "colab_type": "code",
        "colab": {}
      },
      "source": [
        "pset = gp.PrimitiveSet(\"MAIN\", 4, \"IN\")\n",
        "pset.addPrimitive(operator.add, 2)\n",
        "pset.addPrimitive(operator.sub, 2)\n",
        "pset.addPrimitive(operator.mul, 2)\n",
        "pset.addPrimitive(np.fmax, 2)\n",
        "pset.addPrimitive(np.square, 1)\n",
        "pset.addPrimitive(neg, 1)\n",
        "pset.addPrimitive(double, 1)\n",
        "pset.addPrimitive(half, 1)\n",
        "pset.addPrimitive(activation, 1)\n",
        "pset.addTerminal(np.float64(1.0))\n",
        "pset.addTerminal(np.float64(0.25))\n",
        "pset.addTerminal(np.float64(0.5))\n",
        "pset.addTerminal(np.float64(2.0))\n",
        "pset.addTerminal(np.float64(3.0))"
      ],
      "execution_count": 0,
      "outputs": []
    },
    {
      "cell_type": "markdown",
      "metadata": {
        "id": "sM6LfTa8iCTu",
        "colab_type": "text"
      },
      "source": [
        "Support functions"
      ]
    },
    {
      "cell_type": "code",
      "metadata": {
        "id": "m6YdnmHLgFb2",
        "colab_type": "code",
        "colab": {}
      },
      "source": [
        "from sklearn.linear_model import SGDClassifier\n",
        "from sklearn.preprocessing import StandardScaler\n",
        "from sklearn.pipeline import make_pipeline"
      ],
      "execution_count": 0,
      "outputs": []
    },
    {
      "cell_type": "code",
      "metadata": {
        "id": "bbnoLibhiIEu",
        "colab_type": "code",
        "colab": {}
      },
      "source": [
        "def individual_to_function(individual):\n",
        "    return toolbox.compile(expr=individual)\n",
        "\n",
        "def train_creature(X, y, func):\n",
        "    model_X = func(X[:, :, 0], X[:, :, 1], X[:, :, 2], X[:, :, 3])\n",
        "    if np.isscalar(model_X):\n",
        "        model_X = np.full(X.shape[:2], model_X)\n",
        "    clf = make_pipeline(StandardScaler(), SGDClassifier(max_iter=1000, tol=1e-3), verbose=0)\n",
        "    _ = clf.fit(model_X, y)\n",
        "    return clf\n",
        "\n",
        "\n",
        "def predict_creatute(X, clf, func):\n",
        "    model_X = func(X[:, :, 0], X[:, :, 1], X[:, :, 2], X[:, :, 3])\n",
        "    if np.isscalar(model_X):\n",
        "        model_X = np.full(X.shape[:2], model_X)\n",
        "    y_pred = clf.predict(model_X)\n",
        "    return y_pred\n",
        "\n",
        "\n",
        "def train_and_predict(X_train, y_train, X_predict, func):\n",
        "    clf = train_creature(X_train, y_train, func)\n",
        "    y_pred = predict_creatute(X_predict, clf, func)\n",
        "    return y_pred\n",
        "\n",
        "\n",
        "def fitness_function(individual):\n",
        "    global evaluation_counter\n",
        "    evaluation_counter += 1\n",
        "\n",
        "    dynamic_train_idx = np.random.choice(X_train.shape[0], size=10000)\n",
        "    # dynamic_vld_idx = np.random.choice(X_train.shape[0], size=1000)\n",
        "    dynamic_X_train = X_train[dynamic_train_idx, :, :]\n",
        "    dynamic_y_train = y_train.loc[dynamic_train_idx, 1]\n",
        "\n",
        "    func = individual_to_function(individual)\n",
        "    y_pred = train_and_predict(dynamic_X_train, dynamic_y_train, dynamic_X_train, func)\n",
        "    if np.unique(y_pred).shape[0] < 2:\n",
        "        # All elemetns are identical\n",
        "        return 0.0,\n",
        "    else:\n",
        "        # Fitness is accuracy\n",
        "        # fitness_score = accuracy_score(dataset_y, results)\n",
        "        # Fitness is F0.25 score\n",
        "        fitness_score = fbeta_score(dynamic_y_train, y_pred, beta=0.25)\n",
        "        return fitness_score,"
      ],
      "execution_count": 0,
      "outputs": []
    },
    {
      "cell_type": "code",
      "metadata": {
        "id": "Up4SB-VBiPiF",
        "colab_type": "code",
        "colab": {}
      },
      "source": [
        "calculations_time = datetime.now()\n",
        "\n",
        "\n",
        "def calc_time(*args):\n",
        "    global calculations_time\n",
        "    now = datetime.now()\n",
        "    result_time = now - calculations_time\n",
        "    calculations_time = now\n",
        "    return result_time"
      ],
      "execution_count": 0,
      "outputs": []
    },
    {
      "cell_type": "markdown",
      "metadata": {
        "id": "HaBgqEeriZkY",
        "colab_type": "text"
      },
      "source": [
        "Register hyper parameters"
      ]
    },
    {
      "cell_type": "code",
      "metadata": {
        "id": "W1KTTmegiS3v",
        "colab_type": "code",
        "colab": {}
      },
      "source": [
        "# random.seed(10)\n",
        "population_size = 50\n",
        "number_of_generations = 500"
      ],
      "execution_count": 0,
      "outputs": []
    },
    {
      "cell_type": "code",
      "metadata": {
        "id": "WrAXBbtiiYFQ",
        "colab_type": "code",
        "colab": {}
      },
      "source": [
        "history = History()\n",
        "\n",
        "creator.create(\"FitnessMax\", base.Fitness, weights=(1.0,))\n",
        "creator.create(\"Individual\", gp.PrimitiveTree, fitness=creator.FitnessMax)\n",
        "\n",
        "toolbox = base.Toolbox()\n",
        "toolbox.register(\"expr\", gp.genFull, pset=pset, min_=2, max_=8)\n",
        "toolbox.register(\"individual\", tools.initIterate, creator.Individual, toolbox.expr)\n",
        "toolbox.register(\"population\", tools.initRepeat, list, toolbox.individual)\n",
        "toolbox.register(\"compile\", gp.compile, pset=pset)\n",
        "toolbox.register(\"evaluate\", fitness_function)\n",
        "toolbox.register(\"select\", tools.selTournament, tournsize=10)\n",
        "toolbox.register(\"mate\", gp.cxOnePoint)\n",
        "toolbox.register(\"expr_mut\", gp.genGrow, min_=0, max_=8)\n",
        "toolbox.register(\"mutate\", gp.mutUniform, expr=toolbox.expr_mut, pset=pset)\n",
        "\n",
        "# Bloat control\n",
        "toolbox.decorate(\"mate\", gp.staticLimit(key=operator.attrgetter(\"height\"), max_value=10))\n",
        "toolbox.decorate(\"mutate\", gp.staticLimit(key=operator.attrgetter(\"height\"), max_value=10))\n",
        "\n",
        "pop = toolbox.population(n=population_size)\n",
        "hof = tools.HallOfFame(1)\n",
        "stats = tools.Statistics(lambda ind: ind.fitness.values)\n",
        "stats.register(\"avg\", np.mean)\n",
        "stats.register(\"std\", np.std)\n",
        "stats.register(\"min\", np.min)\n",
        "stats.register(\"max\", np.max)\n",
        "stats.register(\"TIME\", calc_time)\n",
        "\n",
        "# Decorate the variation operators\n",
        "toolbox.decorate(\"mate\", history.decorator)\n",
        "toolbox.decorate(\"mutate\", history.decorator)\n",
        "history.update(pop)"
      ],
      "execution_count": 0,
      "outputs": []
    },
    {
      "cell_type": "markdown",
      "metadata": {
        "id": "I1zeO3GwiomQ",
        "colab_type": "text"
      },
      "source": [
        "# Evolve"
      ]
    },
    {
      "cell_type": "code",
      "metadata": {
        "id": "oWzRbRUOifCH",
        "colab_type": "code",
        "colab": {}
      },
      "source": [
        "print(\"Starting evolution.\")\n",
        "evaluation_counter = 0\n",
        "start_time = datetime.now()\n",
        "calculations_time = datetime.now()\n",
        "_, logbook = algorithms.eaSimple(pop, toolbox, cxpb=0.8, mutpb=0.15, ngen=number_of_generations, stats=stats, halloffame=hof)"
      ],
      "execution_count": 0,
      "outputs": []
    },
    {
      "cell_type": "markdown",
      "metadata": {
        "id": "3XtZgSIxitjB",
        "colab_type": "text"
      },
      "source": [
        "# Results"
      ]
    },
    {
      "cell_type": "code",
      "metadata": {
        "id": "qnkgs6nEis6w",
        "colab_type": "code",
        "colab": {}
      },
      "source": [
        "record = stats.compile(pop)\n",
        "duration = datetime.now() - start_time\n",
        "print(\"Run concluded.\")\n",
        "print(\"Evaluations commited: {}\".format(evaluation_counter))\n",
        "print(\"Run time: {}\".format(duration))\n",
        "winner_creature = hof.items[0]\n",
        "winner_function = individual_to_function(winner_creature)"
      ],
      "execution_count": 0,
      "outputs": []
    },
    {
      "cell_type": "code",
      "metadata": {
        "id": "Xjvc6_t0iyTy",
        "colab_type": "code",
        "colab": {}
      },
      "source": [
        "nodes, edges, labels = gp.graph(winner_creature)"
      ],
      "execution_count": 0,
      "outputs": []
    },
    {
      "cell_type": "code",
      "metadata": {
        "id": "bFCbXWAki1_h",
        "colab_type": "code",
        "colab": {}
      },
      "source": [
        "if colab_mode:\n",
        "  import matplotlib.pyplot as plt\n",
        "  import networkx as nx\n",
        "  from networkx.drawing.nx_agraph import graphviz_layout\n",
        "\n",
        "  plt.rcParams[\"figure.figsize\"] = (50, 40)\n",
        "\n",
        "  g = nx.Graph()\n",
        "  g.add_nodes_from(nodes)\n",
        "  g.add_edges_from(edges)\n",
        "  pos = graphviz_layout(g, prog=\"dot\")\n",
        "\n",
        "\n",
        "  nx.draw_networkx_nodes(g, pos, node_size=1600)\n",
        "  nx.draw_networkx_edges(g, pos)\n",
        "  nx.draw_networkx_labels(g, pos, labels, font_size=25)\n",
        "  plt.show()"
      ],
      "execution_count": 0,
      "outputs": []
    },
    {
      "cell_type": "markdown",
      "metadata": {
        "id": "kjyivzIzi4y6",
        "colab_type": "text"
      },
      "source": [
        "analyze and display"
      ]
    },
    {
      "cell_type": "code",
      "metadata": {
        "id": "2AahQ6Zgi65k",
        "colab_type": "code",
        "colab": {}
      },
      "source": [
        "generations_idx = logbook.select('gen')\n",
        "generations_avg = logbook.select('avg')\n",
        "generations_std = logbook.select('std')\n",
        "generations_max = logbook.select('max')\n",
        "generations_min = logbook.select('min')\n",
        "\n",
        "plt.figure(figsize=(20, 10))\n",
        "plt.errorbar(generations_idx, generations_avg, yerr=generations_std, fmt='-o', label='AVG')\n",
        "# plt.plot(generations_idx,generations_avg, '-o',label='AVG')\n",
        "plt.plot(generations_max, '-o', label='BEST', color='black')\n",
        "plt.plot(generations_min, '-o', label='WORST', color='red')\n",
        "plt.grid()\n",
        "plt.legend()\n",
        "plt.xlabel('Generations')\n",
        "plt.ylabel('hits')\n",
        "plt.ylim(0, 1)\n",
        "if colab_mode:\n",
        "  _ = plt.plot()\n",
        "else:\n",
        "  plt.savefig(\"Evolution.png\")"
      ],
      "execution_count": 0,
      "outputs": []
    },
    {
      "cell_type": "markdown",
      "metadata": {
        "id": "o05lJLpIwCvV",
        "colab_type": "text"
      },
      "source": [
        "Evaluate winner on entire train-set"
      ]
    },
    {
      "cell_type": "code",
      "metadata": {
        "id": "dk0PwiAQi9RS",
        "colab_type": "code",
        "colab": {}
      },
      "source": [
        "predictions = train_and_predict(X_train, y_train[1], X_train, winner_function)\n",
        "true_results = y_train[1]\n",
        "\n",
        "scoring_sr = pd.DataFrame(dtype=np.float, columns=['value'])\n",
        "scoring_sr.loc['Accuracy', 'value'] = accuracy_score(true_results, predictions)\n",
        "scoring_sr.loc['Recall', 'value'] = recall_score(true_results, predictions)\n",
        "scoring_sr.loc['precision', 'value'] = precision_score(true_results, predictions)\n",
        "scoring_sr.loc['F0.25', 'value'] = fbeta_score(true_results, predictions, beta=0.25)\n",
        "\n",
        "print(\"Labels balance:\")\n",
        "print(\"0: {:>.3f}\".format(1 - predictions.mean()))\n",
        "print(\"1: {:>.3f}\".format(predictions.mean()))\n",
        "display(scoring_sr)"
      ],
      "execution_count": 0,
      "outputs": []
    },
    {
      "cell_type": "markdown",
      "metadata": {
        "id": "IBgg3bUewMcy",
        "colab_type": "text"
      },
      "source": [
        "Evaluate winner on VLD group"
      ]
    },
    {
      "cell_type": "code",
      "metadata": {
        "id": "lOBJtM3owP5J",
        "colab_type": "code",
        "colab": {}
      },
      "source": [
        "predictions = train_and_predict(X_train, y_train[1], X_vld, winner_function)\n",
        "true_results = y_vld[1]\n",
        "\n",
        "scoring_sr = pd.DataFrame(dtype=np.float, columns=['value'])\n",
        "scoring_sr.loc['Accuracy', 'value'] = accuracy_score(true_results, predictions)\n",
        "scoring_sr.loc['Recall', 'value'] = recall_score(true_results, predictions)\n",
        "scoring_sr.loc['precision', 'value'] = precision_score(true_results, predictions)\n",
        "scoring_sr.loc['F0.25', 'value'] = fbeta_score(true_results, predictions, beta=0.25)\n",
        "\n",
        "print(\"Labels balance:\")\n",
        "print(\"0: {:>.3f}\".format(1 - predictions.mean()))\n",
        "print(\"1: {:>.3f}\".format(predictions.mean()))\n",
        "\n",
        "display(scoring_sr)"
      ],
      "execution_count": 0,
      "outputs": []
    }
  ]
}