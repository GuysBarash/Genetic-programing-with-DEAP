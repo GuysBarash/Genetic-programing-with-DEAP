{
  "nbformat": 4,
  "nbformat_minor": 0,
  "metadata": {
    "colab": {
      "name": "evolutionarty_GP.ipynb",
      "provenance": [],
      "collapsed_sections": [],
      "include_colab_link": true
    },
    "kernelspec": {
      "name": "python3",
      "display_name": "Python 3"
    }
  },
  "cells": [
    {
      "cell_type": "markdown",
      "metadata": {
        "id": "view-in-github",
        "colab_type": "text"
      },
      "source": [
        "<a href=\"https://colab.research.google.com/github/GuysBarash/Genetic-programing-with-DEAP/blob/master/evolutionarty_GP.ipynb\" target=\"_parent\"><img src=\"https://colab.research.google.com/assets/colab-badge.svg\" alt=\"Open In Colab\"/></a>"
      ]
    },
    {
      "cell_type": "code",
      "metadata": {
        "id": "tsxgK6gM6ydk",
        "colab_type": "code",
        "outputId": "ecb2b549-897c-42df-e383-8b26a197edca",
        "colab": {
          "base_uri": "https://localhost:8080/",
          "height": 212
        }
      },
      "source": [
        "!apt install libgraphviz-dev\n",
        "!pip install pygraphviz\n",
        "import pygraphviz as pgv\n",
        "\n",
        "!pip install DEAP"
      ],
      "execution_count": 85,
      "outputs": [
        {
          "output_type": "stream",
          "text": [
            "Reading package lists... Done\n",
            "Building dependency tree       \n",
            "Reading state information... Done\n",
            "libgraphviz-dev is already the newest version (2.40.1-2).\n",
            "The following package was automatically installed and is no longer required:\n",
            "  libnvidia-common-440\n",
            "Use 'apt autoremove' to remove it.\n",
            "0 upgraded, 0 newly installed, 0 to remove and 43 not upgraded.\n",
            "Requirement already satisfied: pygraphviz in /usr/local/lib/python3.6/dist-packages (1.5)\n",
            "Requirement already satisfied: DEAP in /usr/local/lib/python3.6/dist-packages (1.3.1)\n",
            "Requirement already satisfied: numpy in /usr/local/lib/python3.6/dist-packages (from DEAP) (1.18.5)\n"
          ],
          "name": "stdout"
        }
      ]
    },
    {
      "cell_type": "code",
      "metadata": {
        "id": "WY0CnGmQ7dAM",
        "colab_type": "code",
        "colab": {}
      },
      "source": [
        "import random\n",
        "import operator\n",
        "import os\n",
        "import numpy as np\n",
        "import pandas as pd\n",
        "\n",
        "from deap import algorithms\n",
        "from deap import base\n",
        "from deap import creator\n",
        "from deap import tools\n",
        "from deap import gp\n",
        "from datetime import datetime\n",
        "from deap.tools import History\n",
        "\n",
        "from IPython.display import display\n",
        "import matplotlib.pyplot as plt\n",
        "\n",
        "from sklearn.metrics import accuracy_score, recall_score, precision_score, fbeta_score\n",
        "from sklearn import preprocessing"
      ],
      "execution_count": 0,
      "outputs": []
    },
    {
      "cell_type": "markdown",
      "metadata": {
        "id": "evbjvSgS7l26",
        "colab_type": "text"
      },
      "source": [
        "# Generate Data"
      ]
    },
    {
      "cell_type": "code",
      "metadata": {
        "id": "9H1wXsWyjRmc",
        "colab_type": "code",
        "colab": {}
      },
      "source": [
        "import sys\n",
        "colab_mode = 'google.colab' in sys.modules"
      ],
      "execution_count": 0,
      "outputs": []
    },
    {
      "cell_type": "markdown",
      "metadata": {
        "id": "W0Q0nKbz6JwV",
        "colab_type": "text"
      },
      "source": [
        "Fetch data"
      ]
    },
    {
      "cell_type": "code",
      "metadata": {
        "id": "fJMGT-U-7ovH",
        "colab_type": "code",
        "outputId": "9e3a29a4-25c5-4c1b-dcdc-80b3530ff160",
        "colab": {
          "base_uri": "https://localhost:8080/",
          "height": 52
        }
      },
      "source": [
        "if not colab_mode:\n",
        "  train_set = r\"C:\\school\\evolutionary\\ex2\\train.csv\"\n",
        "  vld_set = r\"C:\\school\\evolutionary\\ex2\\validate.csv\"\n",
        "  print(\"loading trains set.\")\n",
        "  rawdatadf = pd.read_csv(train_set, header=None)\n",
        "  print(\"loading VLD set.\")\n",
        "  rawvlddf = pd.read_csv(vld_set, header=None)\n",
        "else:\n",
        "  from google.colab import drive\n",
        "\n",
        "  drive.mount('/content/drive')\n",
        "  base_folder = r'/content/drive/My Drive/colab_storage'\n",
        "  train_set = os.path.join(base_folder ,'train.csv')\n",
        "  vld_set = os.path.join(base_folder ,'validate.csv')\n",
        "  print(\"loading trains set.\")\n",
        "  rawdatadf = pd.read_csv(train_set, header=None)\n",
        "  print(\"loading VLD set.\")\n",
        "  rawvlddf = pd.read_csv(vld_set, header=None)\n",
        "\n"
      ],
      "execution_count": 0,
      "outputs": [
        {
          "output_type": "stream",
          "text": [
            "Drive already mounted at /content/drive; to attempt to forcibly remount, call drive.mount(\"/content/drive\", force_remount=True).\n",
            "loading trains set.\n"
          ],
          "name": "stdout"
        }
      ]
    },
    {
      "cell_type": "markdown",
      "metadata": {
        "id": "6mcd57Tt6O8r",
        "colab_type": "text"
      },
      "source": [
        "Normalize data"
      ]
    },
    {
      "cell_type": "code",
      "metadata": {
        "id": "8IjEU7axjdZ3",
        "colab_type": "code",
        "colab": {}
      },
      "source": [
        "def get_last_n_tuples_from_cols(n, cols):\n",
        "    return cols[-4 * n:]\n",
        "\n",
        "\n",
        "datacols = rawdatadf.columns[1:]\n",
        "datacols = get_last_n_tuples_from_cols(7, datacols)\n",
        "datadf = pd.DataFrame(columns=datacols,\n",
        "                      index=range(rawdatadf.shape[0]),\n",
        "                      data=rawdatadf[datacols])\n",
        "vld_df = pd.DataFrame(columns=datacols,\n",
        "                      index=range(rawvlddf.shape[0]),\n",
        "                      data=rawvlddf[datacols])\n",
        "\n",
        "mean_of_df = datadf.mean(axis=0)\n",
        "std_of_df = datadf.std(axis=0)\n",
        "datadf -= mean_of_df\n",
        "vld_df -= mean_of_df\n",
        "datadf /= std_of_df\n",
        "vld_df /= std_of_df\n",
        "\n",
        "normal = pd.Series(index=datadf.columns,\n",
        "                   data=np.fmax(-datadf.min(axis=0), datadf.max(axis=0)))\n",
        "datadf /= normal\n",
        "vld_df /= normal\n",
        "\n",
        "labels = rawdatadf[rawdatadf.columns[0]]\n",
        "vld_labels = rawvlddf[rawvlddf.columns[0]]\n",
        "labelcol = 'LABEL'\n",
        "datadf[labelcol] = labels\n",
        "vld_df[labelcol] = vld_labels"
      ],
      "execution_count": 0,
      "outputs": []
    },
    {
      "cell_type": "code",
      "metadata": {
        "id": "u59vqlPP71f6",
        "colab_type": "code",
        "colab": {}
      },
      "source": [
        "top_n = 14\n",
        "print(\"TRAIN\")\n",
        "display(datadf.head(14))\n",
        "print(\"\")\n",
        "print(f\"TRAIN: Displaying top {top_n} out of {len(datadf)}\")\n",
        "print(\"\\n\\n\")\n",
        "print(\"VLD\")\n",
        "display(vld_df.head(14))\n",
        "print(\"\")\n",
        "print(f\"TRAIN: Displaying top {top_n} out of {len(vld_df)}\")\n",
        "\n"
      ],
      "execution_count": 0,
      "outputs": []
    },
    {
      "cell_type": "markdown",
      "metadata": {
        "id": "kCuSJIAahACa",
        "colab_type": "text"
      },
      "source": [
        "Check with SVM as baseline"
      ]
    },
    {
      "cell_type": "code",
      "metadata": {
        "id": "xFZOE_EHhCdW",
        "colab_type": "code",
        "colab": {}
      },
      "source": [
        "# Solve with SVM\n",
        "from sklearn import svm\n",
        "\n",
        "# print(\"Calculating SVM\")\n",
        "# clf = svm.LinearSVC()\n",
        "# clf.fit(datadf[datacols], datadf[labelcol])\n",
        "# predictions = clf.predict(datadf[datacols])\n",
        "# true_results = datadf[labelcol]\n",
        "# scoring_sr = pd.DataFrame(dtype=np.float, columns=['value'])\n",
        "# scoring_sr.loc['Accuracy', 'value'] = accuracy_score(true_results, predictions)\n",
        "# scoring_sr.loc['Recall', 'value'] = recall_score(true_results, predictions)\n",
        "# scoring_sr.loc['precision', 'value'] = precision_score(true_results, predictions)\n",
        "# scoring_sr.loc['F0.25', 'value'] = fbeta_score(true_results, predictions, beta=0.25)\n",
        "\n",
        "# display(scoring_sr)\n",
        "# print(\"DONE WITH SVM\")"
      ],
      "execution_count": 0,
      "outputs": []
    },
    {
      "cell_type": "markdown",
      "metadata": {
        "id": "NlknpkuH8NmO",
        "colab_type": "text"
      },
      "source": [
        "# Defining evolution parameters"
      ]
    },
    {
      "cell_type": "markdown",
      "metadata": {
        "id": "rObNRG2ehpWT",
        "colab_type": "text"
      },
      "source": [
        "register operands"
      ]
    },
    {
      "cell_type": "code",
      "metadata": {
        "id": "nLyFM_iihu2a",
        "colab_type": "code",
        "colab": {}
      },
      "source": [
        "def activation(a):\n",
        "    return np.tanh(a)\n",
        "\n",
        "\n",
        "def neg(a):\n",
        "    return -a\n",
        "\n",
        "\n",
        "def double(a):\n",
        "    return 2.0 * a\n",
        "\n",
        "\n",
        "def half(a):\n",
        "    return 0.5 * a"
      ],
      "execution_count": 0,
      "outputs": []
    },
    {
      "cell_type": "code",
      "metadata": {
        "id": "irN81IS_h5q0",
        "colab_type": "code",
        "colab": {}
      },
      "source": [
        "pset = gp.PrimitiveSet(\"MAIN\", 5, \"IN\")\n",
        "pset.addPrimitive(operator.add, 2)\n",
        "pset.addPrimitive(operator.sub, 2)\n",
        "pset.addPrimitive(operator.mul, 2)\n",
        "pset.addPrimitive(np.fmax, 2)\n",
        "pset.addPrimitive(np.square, 1)\n",
        "pset.addPrimitive(neg, 1)\n",
        "pset.addPrimitive(double, 1)\n",
        "pset.addPrimitive(half, 1)\n",
        "pset.addPrimitive(activation, 1)\n",
        "pset.addTerminal(np.float64(1.0))\n",
        "pset.addTerminal(np.float64(0.25))\n",
        "pset.addTerminal(np.float64(0.5))\n",
        "pset.addTerminal(np.float64(2.0))\n",
        "pset.addTerminal(np.float64(3.0))"
      ],
      "execution_count": 0,
      "outputs": []
    },
    {
      "cell_type": "markdown",
      "metadata": {
        "id": "sM6LfTa8iCTu",
        "colab_type": "text"
      },
      "source": [
        "Support functions"
      ]
    },
    {
      "cell_type": "code",
      "metadata": {
        "id": "bbnoLibhiIEu",
        "colab_type": "code",
        "colab": {}
      },
      "source": [
        "def individual_to_function(individual):\n",
        "    return toolbox.compile(expr=individual)\n",
        "\n",
        "\n",
        "def apply_function_to_df(func, dataset):\n",
        "    residual = np.zeros(dataset.shape[0])\n",
        "    for pos in np.arange(0, dataset.shape[1], step=4):\n",
        "        if pos + 3 >= dataset.shape[1]:\n",
        "          break\n",
        "        col1, col2, col3, col4 = datacols[pos], datacols[pos + 1], datacols[pos + 2], datacols[pos + 3]\n",
        "        residual = func(residual, dataset[col1], dataset[col2], dataset[col3], dataset[col4])\n",
        "    if np.isscalar(residual):\n",
        "        residual = np.full(dataset.shape[0], residual)\n",
        "\n",
        "    results = (residual > 0.0).astype(int)\n",
        "    return results\n",
        "\n",
        "\n",
        "def fitness_function(individual):\n",
        "    global evaluation_counter\n",
        "    evaluation_counter += 1\n",
        "\n",
        "    dataset = datadf.sample(n=10000)\n",
        "    dataset_X = dataset[datacols]\n",
        "    dataset_y = dataset[labelcol]\n",
        "\n",
        "    func = individual_to_function(individual)\n",
        "    results = apply_function_to_df(func, dataset_X)\n",
        "\n",
        "    # Fitness is accuracy\n",
        "    # fitness_score = accuracy_score(dataset_y, results)\n",
        "    # Fitness is F0.25 score\n",
        "    fitness_score = fbeta_score(dataset_y, results, beta=0.25)\n",
        "    return fitness_score,"
      ],
      "execution_count": 0,
      "outputs": []
    },
    {
      "cell_type": "code",
      "metadata": {
        "id": "Up4SB-VBiPiF",
        "colab_type": "code",
        "colab": {}
      },
      "source": [
        "calculations_time = datetime.now()\n",
        "\n",
        "\n",
        "def calc_time(*args):\n",
        "    global calculations_time\n",
        "    now = datetime.now()\n",
        "    ret = now - calculations_time\n",
        "    calculations_time = now\n",
        "    return ret"
      ],
      "execution_count": 0,
      "outputs": []
    },
    {
      "cell_type": "markdown",
      "metadata": {
        "id": "HaBgqEeriZkY",
        "colab_type": "text"
      },
      "source": [
        "Register hyper parameters"
      ]
    },
    {
      "cell_type": "code",
      "metadata": {
        "id": "W1KTTmegiS3v",
        "colab_type": "code",
        "colab": {}
      },
      "source": [
        "# random.seed(10)\n",
        "population_size = 50\n",
        "number_of_generations = 1000"
      ],
      "execution_count": 0,
      "outputs": []
    },
    {
      "cell_type": "code",
      "metadata": {
        "id": "WrAXBbtiiYFQ",
        "colab_type": "code",
        "colab": {}
      },
      "source": [
        "history = History()\n",
        "\n",
        "creator.create(\"FitnessMax\", base.Fitness, weights=(1.0,))\n",
        "creator.create(\"Individual\", gp.PrimitiveTree, fitness=creator.FitnessMax)\n",
        "\n",
        "toolbox = base.Toolbox()\n",
        "toolbox.register(\"expr\", gp.genFull, pset=pset, min_=2, max_=8)\n",
        "toolbox.register(\"individual\", tools.initIterate, creator.Individual, toolbox.expr)\n",
        "toolbox.register(\"population\", tools.initRepeat, list, toolbox.individual)\n",
        "toolbox.register(\"compile\", gp.compile, pset=pset)\n",
        "toolbox.register(\"evaluate\", fitness_function)\n",
        "toolbox.register(\"select\", tools.selTournament, tournsize=10)\n",
        "toolbox.register(\"mate\", gp.cxOnePoint)\n",
        "toolbox.register(\"expr_mut\", gp.genGrow, min_=0, max_=8)\n",
        "toolbox.register(\"mutate\", gp.mutUniform, expr=toolbox.expr_mut, pset=pset)\n",
        "\n",
        "# Bloat control\n",
        "toolbox.decorate(\"mate\", gp.staticLimit(key=operator.attrgetter(\"height\"), max_value=10))\n",
        "toolbox.decorate(\"mutate\", gp.staticLimit(key=operator.attrgetter(\"height\"), max_value=10))\n",
        "\n",
        "pop = toolbox.population(n=population_size)\n",
        "hof = tools.HallOfFame(1)\n",
        "stats = tools.Statistics(lambda ind: ind.fitness.values)\n",
        "stats.register(\"avg\", np.mean)\n",
        "stats.register(\"std\", np.std)\n",
        "stats.register(\"min\", np.min)\n",
        "stats.register(\"max\", np.max)\n",
        "stats.register(\"TIME\", calc_time)\n",
        "\n",
        "# Decorate the variation operators\n",
        "toolbox.decorate(\"mate\", history.decorator)\n",
        "toolbox.decorate(\"mutate\", history.decorator)\n",
        "history.update(pop)"
      ],
      "execution_count": 0,
      "outputs": []
    },
    {
      "cell_type": "markdown",
      "metadata": {
        "id": "I1zeO3GwiomQ",
        "colab_type": "text"
      },
      "source": [
        "# Evolve"
      ]
    },
    {
      "cell_type": "code",
      "metadata": {
        "id": "oWzRbRUOifCH",
        "colab_type": "code",
        "colab": {}
      },
      "source": [
        "print(\"Starting evolution.\")\n",
        "evaluation_counter = 0\n",
        "start_time = datetime.now()\n",
        "calculations_time = datetime.now()\n",
        "_, logbook = algorithms.eaSimple(pop, toolbox, cxpb=0.8, mutpb=0.15, ngen=number_of_generations, stats=stats,\n",
        "                                 halloffame=hof)\n"
      ],
      "execution_count": 0,
      "outputs": []
    },
    {
      "cell_type": "markdown",
      "metadata": {
        "id": "3XtZgSIxitjB",
        "colab_type": "text"
      },
      "source": [
        "# Results"
      ]
    },
    {
      "cell_type": "code",
      "metadata": {
        "id": "qnkgs6nEis6w",
        "colab_type": "code",
        "colab": {}
      },
      "source": [
        "record = stats.compile(pop)\n",
        "duration = datetime.now() - start_time\n",
        "print(\"Run concluded.\")\n",
        "print(\"Evaluations commited: {}\".format(evaluation_counter))\n",
        "print(\"Run time: {}\".format(duration))\n",
        "winner_creature = hof.items[0]\n",
        "winner_function = individual_to_function(winner_creature)"
      ],
      "execution_count": 0,
      "outputs": []
    },
    {
      "cell_type": "code",
      "metadata": {
        "id": "Xjvc6_t0iyTy",
        "colab_type": "code",
        "colab": {}
      },
      "source": [
        "nodes, edges, labels = gp.graph(winner_creature)"
      ],
      "execution_count": 0,
      "outputs": []
    },
    {
      "cell_type": "code",
      "metadata": {
        "id": "bFCbXWAki1_h",
        "colab_type": "code",
        "colab": {}
      },
      "source": [
        "import matplotlib.pyplot as plt\n",
        "import networkx as nx\n",
        "from networkx.drawing.nx_agraph import graphviz_layout\n",
        "plt.rcParams[\"figure.figsize\"] = (50, 40)\n",
        "\n",
        "g = nx.Graph()\n",
        "g.add_nodes_from(nodes)\n",
        "g.add_edges_from(edges)\n",
        "pos = graphviz_layout(g, prog=\"dot\")\n",
        "\n",
        "\n",
        "nx.draw_networkx_nodes(g, pos, node_size=1600)\n",
        "nx.draw_networkx_edges(g, pos)\n",
        "nx.draw_networkx_labels(g, pos, labels, font_size=25)\n",
        "plt.show()"
      ],
      "execution_count": 0,
      "outputs": []
    },
    {
      "cell_type": "markdown",
      "metadata": {
        "id": "kjyivzIzi4y6",
        "colab_type": "text"
      },
      "source": [
        "analyze and display"
      ]
    },
    {
      "cell_type": "code",
      "metadata": {
        "id": "2AahQ6Zgi65k",
        "colab_type": "code",
        "colab": {}
      },
      "source": [
        "generations_idx = logbook.select('gen')\n",
        "generations_avg = logbook.select('avg')\n",
        "generations_std = logbook.select('std')\n",
        "generations_max = logbook.select('max')\n",
        "generations_min = logbook.select('min')\n",
        "\n",
        "plt.figure(figsize=(20, 10))\n",
        "plt.errorbar(generations_idx, generations_avg, yerr=generations_std, fmt='-o', label='AVG')\n",
        "# plt.plot(generations_idx,generations_avg, '-o',label='AVG')\n",
        "plt.plot(generations_max, '-o', label='BEST', color='black')\n",
        "plt.plot(generations_min, '-o', label='WORST', color='red')\n",
        "plt.grid()\n",
        "plt.legend()\n",
        "plt.xlabel('Generations')\n",
        "plt.ylabel('hits')\n",
        "plt.ylim(0, 1)\n",
        "_ = plt.plot()"
      ],
      "execution_count": 0,
      "outputs": []
    },
    {
      "cell_type": "markdown",
      "metadata": {
        "id": "o05lJLpIwCvV",
        "colab_type": "text"
      },
      "source": [
        "Evaluate winner on entire train-set"
      ]
    },
    {
      "cell_type": "code",
      "metadata": {
        "id": "dk0PwiAQi9RS",
        "colab_type": "code",
        "colab": {}
      },
      "source": [
        "predictions = apply_function_to_df(winner_function, datadf[datacols])\n",
        "true_results = datadf[labelcol]\n",
        "\n",
        "scoring_sr = pd.DataFrame(dtype=np.float, columns=['value'])\n",
        "scoring_sr.loc['Accuracy', 'value'] = accuracy_score(true_results, predictions)\n",
        "scoring_sr.loc['Recall', 'value'] = recall_score(true_results, predictions)\n",
        "scoring_sr.loc['precision', 'value'] = precision_score(true_results, predictions)\n",
        "scoring_sr.loc['F0.25', 'value'] = fbeta_score(true_results, predictions, beta=0.25)\n",
        "\n",
        "print(\"Labels balance:\")\n",
        "print(\"0: {:>.3f}\".format(1 - predictions.mean()))\n",
        "print(\"1: {:>.3f}\".format(predictions.mean()))\n",
        "display(scoring_sr)"
      ],
      "execution_count": 0,
      "outputs": []
    },
    {
      "cell_type": "markdown",
      "metadata": {
        "id": "IBgg3bUewMcy",
        "colab_type": "text"
      },
      "source": [
        "Evaluate winner on VLD group"
      ]
    },
    {
      "cell_type": "code",
      "metadata": {
        "id": "lOBJtM3owP5J",
        "colab_type": "code",
        "colab": {}
      },
      "source": [
        "predictions = apply_function_to_df(winner_function, vld_df[datacols])\n",
        "true_results = vld_df[labelcol]\n",
        "\n",
        "scoring_sr = pd.DataFrame(dtype=np.float, columns=['value'])\n",
        "scoring_sr.loc['Accuracy', 'value'] = accuracy_score(true_results, predictions)\n",
        "scoring_sr.loc['Recall', 'value'] = recall_score(true_results, predictions)\n",
        "scoring_sr.loc['precision', 'value'] = precision_score(true_results, predictions)\n",
        "scoring_sr.loc['F0.25', 'value'] = fbeta_score(true_results, predictions, beta=0.25)\n",
        "\n",
        "print(\"Labels balance:\")\n",
        "print(\"0: {:>.3f}\".format(1 - predictions.mean()))\n",
        "print(\"1: {:>.3f}\".format(predictions.mean()))\n",
        "\n",
        "display(scoring_sr)"
      ],
      "execution_count": 0,
      "outputs": []
    }
  ]
}