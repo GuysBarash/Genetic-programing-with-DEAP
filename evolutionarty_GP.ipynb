{
  "nbformat": 4,
  "nbformat_minor": 0,
  "metadata": {
    "colab": {
      "name": "evolutionarty_GP.ipynb",
      "provenance": [],
      "authorship_tag": "ABX9TyPhYTE0VX/ylo47CjIXv3YG",
      "include_colab_link": true
    },
    "kernelspec": {
      "name": "python3",
      "display_name": "Python 3"
    }
  },
  "cells": [
    {
      "cell_type": "markdown",
      "metadata": {
        "id": "view-in-github",
        "colab_type": "text"
      },
      "source": [
        "<a href=\"https://colab.research.google.com/github/GuysBarash/Genetic-programing-with-DEAP/blob/master/evolutionarty_GP.ipynb\" target=\"_parent\"><img src=\"https://colab.research.google.com/assets/colab-badge.svg\" alt=\"Open In Colab\"/></a>"
      ]
    },
    {
      "cell_type": "code",
      "metadata": {
        "id": "tsxgK6gM6ydk",
        "colab_type": "code",
        "colab": {}
      },
      "source": [
        "# !pip install DEAP\n",
        "pass"
      ],
      "execution_count": 0,
      "outputs": []
    },
    {
      "cell_type": "code",
      "metadata": {
        "id": "WY0CnGmQ7dAM",
        "colab_type": "code",
        "colab": {}
      },
      "source": [
        "import random\n",
        "import operator\n",
        "\n",
        "import numpy as np\n",
        "import pandas as pd\n",
        "\n",
        "from deap import algorithms\n",
        "from deap import base\n",
        "from deap import creator\n",
        "from deap import tools\n",
        "from deap import gp\n",
        "from datetime import datetime\n",
        "from deap.tools import History\n",
        "\n",
        "from IPython.display import display, HTML\n",
        "import matplotlib.pyplot as plt"
      ],
      "execution_count": 0,
      "outputs": []
    },
    {
      "cell_type": "markdown",
      "metadata": {
        "id": "evbjvSgS7l26",
        "colab_type": "text"
      },
      "source": [
        "# Generate Data"
      ]
    },
    {
      "cell_type": "code",
      "metadata": {
        "id": "fJMGT-U-7ovH",
        "colab_type": "code",
        "colab": {}
      },
      "source": [
        "MUX_SELECT_LINES = 3\n",
        "MUX_IN_LINES = 2 ** MUX_SELECT_LINES\n",
        "MUX_TOTAL_LINES = MUX_SELECT_LINES + MUX_IN_LINES\n",
        "\n",
        "def if_then_else(condition, out1, out2):\n",
        "    return out1 if condition else out2\n",
        "\n",
        "# input : [A0 A1 A2 D0 D1 D2 D3 D4 D5 D6 D7] for a 8-3 mux\n",
        "inputs = [[0] * MUX_TOTAL_LINES for i in range(2 ** MUX_TOTAL_LINES)]\n",
        "outputs = [None] * (2 ** MUX_TOTAL_LINES)\n",
        "\n",
        "for i in range(2 ** MUX_TOTAL_LINES):\n",
        "    value = i\n",
        "    divisor = 2 ** MUX_TOTAL_LINES\n",
        "    # Fill the input bits\n",
        "    for j in range(MUX_TOTAL_LINES):\n",
        "        divisor /= 2\n",
        "        if value >= divisor:\n",
        "            inputs[i][j] = 1\n",
        "            value -= divisor\n",
        "\n",
        "    # Determine the corresponding output\n",
        "    indexOutput = MUX_SELECT_LINES\n",
        "    for j, k in enumerate(inputs[i][:MUX_SELECT_LINES]):\n",
        "        indexOutput += k * 2 ** j\n",
        "    outputs[i] = inputs[i][indexOutput]\n",
        "\n",
        "datacols = [f'bx{idx}' for idx in range(MUX_TOTAL_LINES)]\n",
        "labelcol = 'LABEL'\n",
        "datadf = pd.DataFrame(columns=datacols,\n",
        "                      index=range(2 ** MUX_TOTAL_LINES),\n",
        "                      data=inputs)\n",
        "datadf[labelcol] = outputs"
      ],
      "execution_count": 0,
      "outputs": []
    },
    {
      "cell_type": "code",
      "metadata": {
        "id": "u59vqlPP71f6",
        "colab_type": "code",
        "outputId": "48f91a4f-2724-488f-bc1d-902e6319cd17",
        "colab": {
          "base_uri": "https://localhost:8080/",
          "height": 503
        }
      },
      "source": [
        "top_n = 14\n",
        "display(datadf.head(14))\n",
        "print(\"\")\n",
        "print(f\"Displaying top {top_n} out of {len(datadf)}\")"
      ],
      "execution_count": 144,
      "outputs": [
        {
          "output_type": "display_data",
          "data": {
            "text/html": [
              "<div>\n",
              "<style scoped>\n",
              "    .dataframe tbody tr th:only-of-type {\n",
              "        vertical-align: middle;\n",
              "    }\n",
              "\n",
              "    .dataframe tbody tr th {\n",
              "        vertical-align: top;\n",
              "    }\n",
              "\n",
              "    .dataframe thead th {\n",
              "        text-align: right;\n",
              "    }\n",
              "</style>\n",
              "<table border=\"1\" class=\"dataframe\">\n",
              "  <thead>\n",
              "    <tr style=\"text-align: right;\">\n",
              "      <th></th>\n",
              "      <th>bx0</th>\n",
              "      <th>bx1</th>\n",
              "      <th>bx2</th>\n",
              "      <th>bx3</th>\n",
              "      <th>bx4</th>\n",
              "      <th>bx5</th>\n",
              "      <th>bx6</th>\n",
              "      <th>bx7</th>\n",
              "      <th>bx8</th>\n",
              "      <th>bx9</th>\n",
              "      <th>bx10</th>\n",
              "      <th>LABEL</th>\n",
              "    </tr>\n",
              "  </thead>\n",
              "  <tbody>\n",
              "    <tr>\n",
              "      <th>0</th>\n",
              "      <td>0</td>\n",
              "      <td>0</td>\n",
              "      <td>0</td>\n",
              "      <td>0</td>\n",
              "      <td>0</td>\n",
              "      <td>0</td>\n",
              "      <td>0</td>\n",
              "      <td>0</td>\n",
              "      <td>0</td>\n",
              "      <td>0</td>\n",
              "      <td>0</td>\n",
              "      <td>0</td>\n",
              "    </tr>\n",
              "    <tr>\n",
              "      <th>1</th>\n",
              "      <td>0</td>\n",
              "      <td>0</td>\n",
              "      <td>0</td>\n",
              "      <td>0</td>\n",
              "      <td>0</td>\n",
              "      <td>0</td>\n",
              "      <td>0</td>\n",
              "      <td>0</td>\n",
              "      <td>0</td>\n",
              "      <td>0</td>\n",
              "      <td>1</td>\n",
              "      <td>0</td>\n",
              "    </tr>\n",
              "    <tr>\n",
              "      <th>2</th>\n",
              "      <td>0</td>\n",
              "      <td>0</td>\n",
              "      <td>0</td>\n",
              "      <td>0</td>\n",
              "      <td>0</td>\n",
              "      <td>0</td>\n",
              "      <td>0</td>\n",
              "      <td>0</td>\n",
              "      <td>0</td>\n",
              "      <td>1</td>\n",
              "      <td>0</td>\n",
              "      <td>0</td>\n",
              "    </tr>\n",
              "    <tr>\n",
              "      <th>3</th>\n",
              "      <td>0</td>\n",
              "      <td>0</td>\n",
              "      <td>0</td>\n",
              "      <td>0</td>\n",
              "      <td>0</td>\n",
              "      <td>0</td>\n",
              "      <td>0</td>\n",
              "      <td>0</td>\n",
              "      <td>0</td>\n",
              "      <td>1</td>\n",
              "      <td>1</td>\n",
              "      <td>0</td>\n",
              "    </tr>\n",
              "    <tr>\n",
              "      <th>4</th>\n",
              "      <td>0</td>\n",
              "      <td>0</td>\n",
              "      <td>0</td>\n",
              "      <td>0</td>\n",
              "      <td>0</td>\n",
              "      <td>0</td>\n",
              "      <td>0</td>\n",
              "      <td>0</td>\n",
              "      <td>1</td>\n",
              "      <td>0</td>\n",
              "      <td>0</td>\n",
              "      <td>0</td>\n",
              "    </tr>\n",
              "    <tr>\n",
              "      <th>5</th>\n",
              "      <td>0</td>\n",
              "      <td>0</td>\n",
              "      <td>0</td>\n",
              "      <td>0</td>\n",
              "      <td>0</td>\n",
              "      <td>0</td>\n",
              "      <td>0</td>\n",
              "      <td>0</td>\n",
              "      <td>1</td>\n",
              "      <td>0</td>\n",
              "      <td>1</td>\n",
              "      <td>0</td>\n",
              "    </tr>\n",
              "    <tr>\n",
              "      <th>6</th>\n",
              "      <td>0</td>\n",
              "      <td>0</td>\n",
              "      <td>0</td>\n",
              "      <td>0</td>\n",
              "      <td>0</td>\n",
              "      <td>0</td>\n",
              "      <td>0</td>\n",
              "      <td>0</td>\n",
              "      <td>1</td>\n",
              "      <td>1</td>\n",
              "      <td>0</td>\n",
              "      <td>0</td>\n",
              "    </tr>\n",
              "    <tr>\n",
              "      <th>7</th>\n",
              "      <td>0</td>\n",
              "      <td>0</td>\n",
              "      <td>0</td>\n",
              "      <td>0</td>\n",
              "      <td>0</td>\n",
              "      <td>0</td>\n",
              "      <td>0</td>\n",
              "      <td>0</td>\n",
              "      <td>1</td>\n",
              "      <td>1</td>\n",
              "      <td>1</td>\n",
              "      <td>0</td>\n",
              "    </tr>\n",
              "    <tr>\n",
              "      <th>8</th>\n",
              "      <td>0</td>\n",
              "      <td>0</td>\n",
              "      <td>0</td>\n",
              "      <td>0</td>\n",
              "      <td>0</td>\n",
              "      <td>0</td>\n",
              "      <td>0</td>\n",
              "      <td>1</td>\n",
              "      <td>0</td>\n",
              "      <td>0</td>\n",
              "      <td>0</td>\n",
              "      <td>0</td>\n",
              "    </tr>\n",
              "    <tr>\n",
              "      <th>9</th>\n",
              "      <td>0</td>\n",
              "      <td>0</td>\n",
              "      <td>0</td>\n",
              "      <td>0</td>\n",
              "      <td>0</td>\n",
              "      <td>0</td>\n",
              "      <td>0</td>\n",
              "      <td>1</td>\n",
              "      <td>0</td>\n",
              "      <td>0</td>\n",
              "      <td>1</td>\n",
              "      <td>0</td>\n",
              "    </tr>\n",
              "    <tr>\n",
              "      <th>10</th>\n",
              "      <td>0</td>\n",
              "      <td>0</td>\n",
              "      <td>0</td>\n",
              "      <td>0</td>\n",
              "      <td>0</td>\n",
              "      <td>0</td>\n",
              "      <td>0</td>\n",
              "      <td>1</td>\n",
              "      <td>0</td>\n",
              "      <td>1</td>\n",
              "      <td>0</td>\n",
              "      <td>0</td>\n",
              "    </tr>\n",
              "    <tr>\n",
              "      <th>11</th>\n",
              "      <td>0</td>\n",
              "      <td>0</td>\n",
              "      <td>0</td>\n",
              "      <td>0</td>\n",
              "      <td>0</td>\n",
              "      <td>0</td>\n",
              "      <td>0</td>\n",
              "      <td>1</td>\n",
              "      <td>0</td>\n",
              "      <td>1</td>\n",
              "      <td>1</td>\n",
              "      <td>0</td>\n",
              "    </tr>\n",
              "    <tr>\n",
              "      <th>12</th>\n",
              "      <td>0</td>\n",
              "      <td>0</td>\n",
              "      <td>0</td>\n",
              "      <td>0</td>\n",
              "      <td>0</td>\n",
              "      <td>0</td>\n",
              "      <td>0</td>\n",
              "      <td>1</td>\n",
              "      <td>1</td>\n",
              "      <td>0</td>\n",
              "      <td>0</td>\n",
              "      <td>0</td>\n",
              "    </tr>\n",
              "    <tr>\n",
              "      <th>13</th>\n",
              "      <td>0</td>\n",
              "      <td>0</td>\n",
              "      <td>0</td>\n",
              "      <td>0</td>\n",
              "      <td>0</td>\n",
              "      <td>0</td>\n",
              "      <td>0</td>\n",
              "      <td>1</td>\n",
              "      <td>1</td>\n",
              "      <td>0</td>\n",
              "      <td>1</td>\n",
              "      <td>0</td>\n",
              "    </tr>\n",
              "  </tbody>\n",
              "</table>\n",
              "</div>"
            ],
            "text/plain": [
              "    bx0  bx1  bx2  bx3  bx4  bx5  bx6  bx7  bx8  bx9  bx10  LABEL\n",
              "0     0    0    0    0    0    0    0    0    0    0     0      0\n",
              "1     0    0    0    0    0    0    0    0    0    0     1      0\n",
              "2     0    0    0    0    0    0    0    0    0    1     0      0\n",
              "3     0    0    0    0    0    0    0    0    0    1     1      0\n",
              "4     0    0    0    0    0    0    0    0    1    0     0      0\n",
              "5     0    0    0    0    0    0    0    0    1    0     1      0\n",
              "6     0    0    0    0    0    0    0    0    1    1     0      0\n",
              "7     0    0    0    0    0    0    0    0    1    1     1      0\n",
              "8     0    0    0    0    0    0    0    1    0    0     0      0\n",
              "9     0    0    0    0    0    0    0    1    0    0     1      0\n",
              "10    0    0    0    0    0    0    0    1    0    1     0      0\n",
              "11    0    0    0    0    0    0    0    1    0    1     1      0\n",
              "12    0    0    0    0    0    0    0    1    1    0     0      0\n",
              "13    0    0    0    0    0    0    0    1    1    0     1      0"
            ]
          },
          "metadata": {
            "tags": []
          }
        },
        {
          "output_type": "stream",
          "text": [
            "\n",
            "Displaying top 14 out of 2048\n"
          ],
          "name": "stdout"
        }
      ]
    },
    {
      "cell_type": "markdown",
      "metadata": {
        "id": "NlknpkuH8NmO",
        "colab_type": "text"
      },
      "source": [
        "# Defining evolution parameters"
      ]
    },
    {
      "cell_type": "markdown",
      "metadata": {
        "id": "yS7vw4lb8U37",
        "colab_type": "text"
      },
      "source": [
        "Legal nodes in tree"
      ]
    },
    {
      "cell_type": "code",
      "metadata": {
        "id": "fuhSqVNG8Rpa",
        "colab_type": "code",
        "colab": {}
      },
      "source": [
        "pset = gp.PrimitiveSet(\"MAIN\", MUX_TOTAL_LINES, \"IN\")\n",
        "pset.addPrimitive(operator.and_, 2)\n",
        "pset.addPrimitive(operator.or_, 2)\n",
        "pset.addPrimitive(operator.not_, 1)\n",
        "pset.addPrimitive(if_then_else, 3)\n",
        "pset.addTerminal(1)\n",
        "pset.addTerminal(0)"
      ],
      "execution_count": 0,
      "outputs": []
    },
    {
      "cell_type": "markdown",
      "metadata": {
        "id": "Ey5b-k3-8ddL",
        "colab_type": "text"
      },
      "source": [
        "Evolution parameters"
      ]
    },
    {
      "cell_type": "code",
      "metadata": {
        "id": "zGPE3bVe8fjr",
        "colab_type": "code",
        "colab": {
          "base_uri": "https://localhost:8080/",
          "height": 87
        },
        "outputId": "07118073-b62d-4d13-80b2-2d5d69a8d7c6"
      },
      "source": [
        "history = History()\n",
        "\n",
        "creator.create(\"FitnessMax\", base.Fitness, weights=(1.0,))\n",
        "creator.create(\"Individual\", gp.PrimitiveTree, fitness=creator.FitnessMax)\n",
        "\n",
        "toolbox = base.Toolbox()\n",
        "toolbox.register(\"expr\", gp.genFull, pset=pset, min_=2, max_=4)\n",
        "toolbox.register(\"individual\", tools.initIterate, creator.Individual, toolbox.expr)\n",
        "toolbox.register(\"population\", tools.initRepeat, list, toolbox.individual)\n",
        "toolbox.register(\"compile\", gp.compile, pset=pset)"
      ],
      "execution_count": 146,
      "outputs": [
        {
          "output_type": "stream",
          "text": [
            "/usr/local/lib/python3.6/dist-packages/deap/creator.py:141: RuntimeWarning: A class named 'FitnessMax' has already been created and it will be overwritten. Consider deleting previous creation of that class or rename it.\n",
            "  RuntimeWarning)\n",
            "/usr/local/lib/python3.6/dist-packages/deap/creator.py:141: RuntimeWarning: A class named 'Individual' has already been created and it will be overwritten. Consider deleting previous creation of that class or rename it.\n",
            "  RuntimeWarning)\n"
          ],
          "name": "stderr"
        }
      ]
    },
    {
      "cell_type": "markdown",
      "metadata": {
        "id": "n_TbKsQi8isb",
        "colab_type": "text"
      },
      "source": [
        "Support functions"
      ]
    },
    {
      "cell_type": "code",
      "metadata": {
        "id": "ENOBVrIy8g8U",
        "colab_type": "code",
        "colab": {}
      },
      "source": [
        "evaluation_counter = 0\n",
        "\n",
        "def individual_to_function(individual):\n",
        "    return toolbox.compile(expr=individual)\n",
        "\n",
        "\n",
        "def apply_function_to_df(func, dataset=None):\n",
        "  if dataset is None:\n",
        "    dataset =  datadf[datacols]\n",
        "  results = datadf[datacols].apply(lambda r: func(*r.values), axis=1)\n",
        "  return results\n",
        "\n",
        "\n",
        "def evalMultiplexer(individual):\n",
        "    global evaluation_counter\n",
        "    evaluation_counter += 1\n",
        "    func = individual_to_function(individual)\n",
        "    results = apply_function_to_df(func)\n",
        "    fitness = (results == datadf[labelcol]).sum()\n",
        "    max_score = len(datadf)\n",
        "    fitness_score = fitness / max_score\n",
        "    return fitness_score,"
      ],
      "execution_count": 0,
      "outputs": []
    },
    {
      "cell_type": "code",
      "metadata": {
        "id": "Ltlkqqns86Kb",
        "colab_type": "code",
        "colab": {}
      },
      "source": [
        "# random.seed(10)\n",
        "population_size = 25\n",
        "number_of_generations = 25\n",
        "\n",
        "toolbox.register(\"evaluate\", evalMultiplexer)\n",
        "toolbox.register(\"select\", tools.selTournament, tournsize=7)\n",
        "toolbox.register(\"mate\", gp.cxOnePoint)\n",
        "toolbox.register(\"expr_mut\", gp.genGrow, min_=0, max_=2)\n",
        "toolbox.register(\"mutate\", gp.mutUniform, expr=toolbox.expr_mut, pset=pset)\n",
        "\n",
        "\n",
        "\n",
        "pop = toolbox.population(n=population_size)\n",
        "hof = tools.HallOfFame(1)\n",
        "stats = tools.Statistics(lambda ind: ind.fitness.values)\n",
        "stats.register(\"avg\", np.mean)\n",
        "stats.register(\"std\", np.std)\n",
        "stats.register(\"min\", np.min)\n",
        "stats.register(\"max\", np.max)\n",
        "\n",
        "# Decorate the variation operators\n",
        "toolbox.decorate(\"mate\", history.decorator)\n",
        "toolbox.decorate(\"mutate\", history.decorator)\n",
        "history.update(pop)"
      ],
      "execution_count": 0,
      "outputs": []
    },
    {
      "cell_type": "markdown",
      "metadata": {
        "id": "VfTma72189oA",
        "colab_type": "text"
      },
      "source": [
        "# Evolution part"
      ]
    },
    {
      "cell_type": "code",
      "metadata": {
        "id": "n_itS_Ui9Ctj",
        "colab_type": "code",
        "outputId": "a32fa52a-7de2-4a65-fede-f8dc1f473645",
        "colab": {
          "base_uri": "https://localhost:8080/",
          "height": 567
        }
      },
      "source": [
        "print(\"Starting evolution.\")\n",
        "start_time = datetime.now()\n",
        "_, logbook = algorithms.eaSimple(pop, toolbox, cxpb=0.8, mutpb=0.1, ngen=number_of_generations, stats=stats, halloffame=hof)\n",
        "record = stats.compile(pop)\n",
        "duration = datetime.now() - start_time\n",
        "print(\"Run concluded.\")\n",
        "print(\"Evaluations commited: {}\".format(evaluation_counter))\n",
        "print(\"Run time: {}\".format(duration))\n",
        "winner_creature = hof.items[0]\n",
        "winner_function = individual_to_function(winner_creature)"
      ],
      "execution_count": 149,
      "outputs": [
        {
          "output_type": "stream",
          "text": [
            "Starting evolution.\n",
            "gen\tnevals\tavg     \tstd      \tmin     \tmax    \n",
            "0  \t25    \t0.510781\t0.0476662\t0.429688\t0.59375\n",
            "1  \t13    \t0.555312\t0.0337963\t0.4375  \t0.59375\n",
            "2  \t12    \t0.576875\t0.0220617\t0.53125 \t0.59375\n",
            "3  \t18    \t0.575625\t0.0232513\t0.53125 \t0.59375\n",
            "4  \t22    \t0.581875\t0.0226557\t0.53125 \t0.625  \n",
            "5  \t23    \t0.58875 \t0.0305292\t0.515625\t0.625  \n",
            "6  \t21    \t0.606875\t0.0260258\t0.53125 \t0.625  \n",
            "7  \t23    \t0.5925  \t0.0321496\t0.53125 \t0.625  \n",
            "8  \t18    \t0.59125 \t0.0366252\t0.5     \t0.625  \n",
            "9  \t16    \t0.61375 \t0.023184 \t0.5625  \t0.625  \n",
            "10 \t22    \t0.598125\t0.0288179\t0.5625  \t0.625  \n",
            "11 \t21    \t0.596875\t0.0299739\t0.53125 \t0.625  \n",
            "12 \t18    \t0.589375\t0.0357727\t0.5     \t0.625  \n",
            "13 \t22    \t0.5975  \t0.0319546\t0.546875\t0.625  \n",
            "14 \t22    \t0.595   \t0.031225 \t0.53125 \t0.625  \n",
            "15 \t18    \t0.60625 \t0.0268823\t0.546875\t0.625  \n",
            "16 \t18    \t0.600625\t0.0283257\t0.53125 \t0.625  \n",
            "17 \t20    \t0.5925  \t0.0336341\t0.5     \t0.625  \n",
            "18 \t22    \t0.58875 \t0.035    \t0.5     \t0.625  \n",
            "19 \t22    \t0.59125 \t0.0326798\t0.53125 \t0.625  \n",
            "20 \t17    \t0.5975  \t0.034877 \t0.5     \t0.625  \n",
            "21 \t19    \t0.606875\t0.0301947\t0.515625\t0.625  \n",
            "22 \t17    \t0.60875 \t0.0266927\t0.5625  \t0.625  \n",
            "23 \t19    \t0.6025  \t0.03     \t0.53125 \t0.625  \n",
            "24 \t20    \t0.59875 \t0.0382018\t0.5     \t0.625  \n",
            "25 \t19    \t0.58875 \t0.0420936\t0.5     \t0.625  \n",
            "Run concluded.\n",
            "Evaluations commited: 507\n",
            "Run time: 0:00:07.434671\n"
          ],
          "name": "stdout"
        }
      ]
    },
    {
      "cell_type": "markdown",
      "metadata": {
        "id": "P_JfSPKP9x7b",
        "colab_type": "text"
      },
      "source": [
        "# Analyze results"
      ]
    },
    {
      "cell_type": "code",
      "metadata": {
        "id": "FXPJ9iiYKykU",
        "colab_type": "code",
        "colab": {
          "base_uri": "https://localhost:8080/",
          "height": 605
        },
        "outputId": "fc868d66-5b95-48de-94e1-93e0e4156161"
      },
      "source": [
        "generations_idx = logbook.select('gen')\n",
        "generations_avg = logbook.select('avg')\n",
        "generations_std = logbook.select('std')\n",
        "generations_max = logbook.select('max')\n",
        "\n",
        "plt.figure(figsize=(20,10))\n",
        "plt.errorbar(generations_idx,generations_avg, yerr=generations_std, fmt='-o',label='AVG')\n",
        "# plt.plot(generations_idx,generations_avg, '-o',label='AVG')\n",
        "plt.plot(generations_max,'-o',label='BEST',  color='black')\n",
        "plt.grid()\n",
        "plt.legend()\n",
        "plt.xlabel('Generations')\n",
        "plt.ylabel('hits')\n",
        "_ = plt.plot()"
      ],
      "execution_count": 150,
      "outputs": [
        {
          "output_type": "display_data",
          "data": {
            "image/png": "[encoded data removed]",
            "text/plain": [
              "<Figure size 1440x720 with 1 Axes>"
            ]
          },
          "metadata": {
            "tags": [],
            "needs_background": "light"
          }
        }
      ]
    },
    {
      "cell_type": "code",
      "metadata": {
        "id": "jDCliFojON_Q",
        "colab_type": "code",
        "colab": {
          "base_uri": "https://localhost:8080/",
          "height": 608
        },
        "outputId": "ae2a8fb2-1dc3-4e38-e99f-71eb5ad3f8e9"
      },
      "source": [
        "generations_idx = logbook.select('gen')\n",
        "generations_avg = logbook.select('avg')\n",
        "generations_std = logbook.select('std')\n",
        "generations_max = logbook.select('max')\n",
        "\n",
        "plt.figure(figsize=(20,10))\n",
        "# plt.errorbar(generations_idx,avg, yerr=std, fmt='-o',label='AVG')\n",
        "plt.plot(generations_idx,generations_avg,'-o',label='AVG')\n",
        "plt.plot(generations_max,'-o',label='BEST',  color='black')\n",
        "plt.grid()\n",
        "plt.legend()\n",
        "plt.xscale('log')\n",
        "plt.xlabel('Generations')\n",
        "plt.ylabel('hits')\n",
        "_ = plt.plot()"
      ],
      "execution_count": 151,
      "outputs": [
        {
          "output_type": "display_data",
          "data": {
            "image/png": "[encoded data removed]",
            "text/plain": [
              "<Figure size 1440x720 with 1 Axes>"
            ]
          },
          "metadata": {
            "tags": [],
            "needs_background": "light"
          }
        }
      ]
    },
    {
      "cell_type": "code",
      "metadata": {
        "id": "qRMsSICB9LV0",
        "colab_type": "code",
        "colab": {}
      },
      "source": [
        "predictions = apply_function_to_df(winner_function).astype(np.int64)\n",
        "true_results = datadf[labelcol]"
      ],
      "execution_count": 0,
      "outputs": []
    },
    {
      "cell_type": "code",
      "metadata": {
        "id": "REKNyDwb98MF",
        "colab_type": "code",
        "outputId": "29fd4867-6ea2-4379-c749-509d462f7ff4",
        "colab": {
          "base_uri": "https://localhost:8080/",
          "height": 167
        }
      },
      "source": [
        "from sklearn.metrics import accuracy_score, recall_score, precision_score, fbeta_score\n",
        "\n",
        "scoring_sr = pd.DataFrame(dtype=np.float, columns=['value'])\n",
        "scoring_sr.loc['Accuracy','value'] = accuracy_score(true_results, predictions)\n",
        "scoring_sr.loc['Recall','value'] = recall_score(true_results, predictions)\n",
        "scoring_sr.loc['precision','value'] = precision_score(true_results, predictions)\n",
        "scoring_sr.loc['F0.25','value'] = fbeta_score(true_results, predictions,beta=0.25)\n",
        "\n",
        "display(scoring_sr)\n",
        "\n"
      ],
      "execution_count": 153,
      "outputs": [
        {
          "output_type": "display_data",
          "data": {
            "text/html": [
              "<div>\n",
              "<style scoped>\n",
              "    .dataframe tbody tr th:only-of-type {\n",
              "        vertical-align: middle;\n",
              "    }\n",
              "\n",
              "    .dataframe tbody tr th {\n",
              "        vertical-align: top;\n",
              "    }\n",
              "\n",
              "    .dataframe thead th {\n",
              "        text-align: right;\n",
              "    }\n",
              "</style>\n",
              "<table border=\"1\" class=\"dataframe\">\n",
              "  <thead>\n",
              "    <tr style=\"text-align: right;\">\n",
              "      <th></th>\n",
              "      <th>value</th>\n",
              "    </tr>\n",
              "  </thead>\n",
              "  <tbody>\n",
              "    <tr>\n",
              "      <th>Accuracy</th>\n",
              "      <td>0.625000</td>\n",
              "    </tr>\n",
              "    <tr>\n",
              "      <th>Recall</th>\n",
              "      <td>0.750000</td>\n",
              "    </tr>\n",
              "    <tr>\n",
              "      <th>precision</th>\n",
              "      <td>0.600000</td>\n",
              "    </tr>\n",
              "    <tr>\n",
              "      <th>F0.25</th>\n",
              "      <td>0.607143</td>\n",
              "    </tr>\n",
              "  </tbody>\n",
              "</table>\n",
              "</div>"
            ],
            "text/plain": [
              "              value\n",
              "Accuracy   0.625000\n",
              "Recall     0.750000\n",
              "precision  0.600000\n",
              "F0.25      0.607143"
            ]
          },
          "metadata": {
            "tags": []
          }
        }
      ]
    }
  ]
}