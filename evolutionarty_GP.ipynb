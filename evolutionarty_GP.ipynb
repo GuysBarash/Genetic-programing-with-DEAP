{
  "nbformat": 4,
  "nbformat_minor": 0,
  "metadata": {
    "colab": {
      "name": "evolutionarty_GP.ipynb",
      "provenance": [],
      "authorship_tag": "ABX9TyPzAcjfRLQuam7GIsRyBj/d",
      "include_colab_link": true
    },
    "kernelspec": {
      "name": "python3",
      "display_name": "Python 3"
    }
  },
  "cells": [
    {
      "cell_type": "markdown",
      "metadata": {
        "id": "view-in-github",
        "colab_type": "text"
      },
      "source": [
        "<a href=\"https://colab.research.google.com/github/GuysBarash/Genetic-programing-with-DEAP/blob/master/evolutionarty_GP.ipynb\" target=\"_parent\"><img src=\"https://colab.research.google.com/assets/colab-badge.svg\" alt=\"Open In Colab\"/></a>"
      ]
    },
    {
      "cell_type": "code",
      "metadata": {
        "id": "tsxgK6gM6ydk",
        "colab_type": "code",
        "colab": {}
      },
      "source": [
        "# !pip install DEAP\n",
        "pass"
      ],
      "execution_count": 0,
      "outputs": []
    },
    {
      "cell_type": "code",
      "metadata": {
        "id": "WY0CnGmQ7dAM",
        "colab_type": "code",
        "colab": {}
      },
      "source": [
        "import random\n",
        "import operator\n",
        "\n",
        "import numpy\n",
        "import pandas as pd\n",
        "\n",
        "from deap import algorithms\n",
        "from deap import base\n",
        "from deap import creator\n",
        "from deap import tools\n",
        "from deap import gp\n",
        "from datetime import datetime\n",
        "from IPython.display import display, HTML\n",
        "import matplotlib.pyplot as plt"
      ],
      "execution_count": 0,
      "outputs": []
    },
    {
      "cell_type": "markdown",
      "metadata": {
        "id": "evbjvSgS7l26",
        "colab_type": "text"
      },
      "source": [
        "# Generate Data"
      ]
    },
    {
      "cell_type": "code",
      "metadata": {
        "id": "fJMGT-U-7ovH",
        "colab_type": "code",
        "colab": {}
      },
      "source": [
        "MUX_SELECT_LINES = 3\n",
        "MUX_IN_LINES = 2 ** MUX_SELECT_LINES\n",
        "MUX_TOTAL_LINES = MUX_SELECT_LINES + MUX_IN_LINES\n",
        "\n",
        "def if_then_else(condition, out1, out2):\n",
        "    return out1 if condition else out2\n",
        "\n",
        "# input : [A0 A1 A2 D0 D1 D2 D3 D4 D5 D6 D7] for a 8-3 mux\n",
        "inputs = [[0] * MUX_TOTAL_LINES for i in range(2 ** MUX_TOTAL_LINES)]\n",
        "outputs = [None] * (2 ** MUX_TOTAL_LINES)\n",
        "\n",
        "for i in range(2 ** MUX_TOTAL_LINES):\n",
        "    value = i\n",
        "    divisor = 2 ** MUX_TOTAL_LINES\n",
        "    # Fill the input bits\n",
        "    for j in range(MUX_TOTAL_LINES):\n",
        "        divisor /= 2\n",
        "        if value >= divisor:\n",
        "            inputs[i][j] = 1\n",
        "            value -= divisor\n",
        "\n",
        "    # Determine the corresponding output\n",
        "    indexOutput = MUX_SELECT_LINES\n",
        "    for j, k in enumerate(inputs[i][:MUX_SELECT_LINES]):\n",
        "        indexOutput += k * 2 ** j\n",
        "    outputs[i] = inputs[i][indexOutput]\n",
        "\n",
        "datacols = [f'bx{idx}' for idx in range(MUX_TOTAL_LINES)]\n",
        "labelcol = 'LABEL'\n",
        "datadf = pd.DataFrame(columns=datacols,\n",
        "                      index=range(2 ** MUX_TOTAL_LINES),\n",
        "                      data=inputs)\n",
        "datadf[labelcol] = outputs"
      ],
      "execution_count": 0,
      "outputs": []
    },
    {
      "cell_type": "code",
      "metadata": {
        "id": "u59vqlPP71f6",
        "colab_type": "code",
        "colab": {
          "base_uri": "https://localhost:8080/",
          "height": 503
        },
        "outputId": "8c5aec60-3262-44e7-be45-c2845671805c"
      },
      "source": [
        "top_n = 14\n",
        "display(datadf.head(14))\n",
        "print(\"\")\n",
        "print(f\"Displaying top {top_n} out of {len(datadf)}\")"
      ],
      "execution_count": 15,
      "outputs": [
        {
          "output_type": "display_data",
          "data": {
            "text/html": [
              "<div>\n",
              "<style scoped>\n",
              "    .dataframe tbody tr th:only-of-type {\n",
              "        vertical-align: middle;\n",
              "    }\n",
              "\n",
              "    .dataframe tbody tr th {\n",
              "        vertical-align: top;\n",
              "    }\n",
              "\n",
              "    .dataframe thead th {\n",
              "        text-align: right;\n",
              "    }\n",
              "</style>\n",
              "<table border=\"1\" class=\"dataframe\">\n",
              "  <thead>\n",
              "    <tr style=\"text-align: right;\">\n",
              "      <th></th>\n",
              "      <th>bx0</th>\n",
              "      <th>bx1</th>\n",
              "      <th>bx2</th>\n",
              "      <th>bx3</th>\n",
              "      <th>bx4</th>\n",
              "      <th>bx5</th>\n",
              "      <th>bx6</th>\n",
              "      <th>bx7</th>\n",
              "      <th>bx8</th>\n",
              "      <th>bx9</th>\n",
              "      <th>bx10</th>\n",
              "      <th>LABEL</th>\n",
              "    </tr>\n",
              "  </thead>\n",
              "  <tbody>\n",
              "    <tr>\n",
              "      <th>0</th>\n",
              "      <td>0</td>\n",
              "      <td>0</td>\n",
              "      <td>0</td>\n",
              "      <td>0</td>\n",
              "      <td>0</td>\n",
              "      <td>0</td>\n",
              "      <td>0</td>\n",
              "      <td>0</td>\n",
              "      <td>0</td>\n",
              "      <td>0</td>\n",
              "      <td>0</td>\n",
              "      <td>0</td>\n",
              "    </tr>\n",
              "    <tr>\n",
              "      <th>1</th>\n",
              "      <td>0</td>\n",
              "      <td>0</td>\n",
              "      <td>0</td>\n",
              "      <td>0</td>\n",
              "      <td>0</td>\n",
              "      <td>0</td>\n",
              "      <td>0</td>\n",
              "      <td>0</td>\n",
              "      <td>0</td>\n",
              "      <td>0</td>\n",
              "      <td>1</td>\n",
              "      <td>0</td>\n",
              "    </tr>\n",
              "    <tr>\n",
              "      <th>2</th>\n",
              "      <td>0</td>\n",
              "      <td>0</td>\n",
              "      <td>0</td>\n",
              "      <td>0</td>\n",
              "      <td>0</td>\n",
              "      <td>0</td>\n",
              "      <td>0</td>\n",
              "      <td>0</td>\n",
              "      <td>0</td>\n",
              "      <td>1</td>\n",
              "      <td>0</td>\n",
              "      <td>0</td>\n",
              "    </tr>\n",
              "    <tr>\n",
              "      <th>3</th>\n",
              "      <td>0</td>\n",
              "      <td>0</td>\n",
              "      <td>0</td>\n",
              "      <td>0</td>\n",
              "      <td>0</td>\n",
              "      <td>0</td>\n",
              "      <td>0</td>\n",
              "      <td>0</td>\n",
              "      <td>0</td>\n",
              "      <td>1</td>\n",
              "      <td>1</td>\n",
              "      <td>0</td>\n",
              "    </tr>\n",
              "    <tr>\n",
              "      <th>4</th>\n",
              "      <td>0</td>\n",
              "      <td>0</td>\n",
              "      <td>0</td>\n",
              "      <td>0</td>\n",
              "      <td>0</td>\n",
              "      <td>0</td>\n",
              "      <td>0</td>\n",
              "      <td>0</td>\n",
              "      <td>1</td>\n",
              "      <td>0</td>\n",
              "      <td>0</td>\n",
              "      <td>0</td>\n",
              "    </tr>\n",
              "    <tr>\n",
              "      <th>5</th>\n",
              "      <td>0</td>\n",
              "      <td>0</td>\n",
              "      <td>0</td>\n",
              "      <td>0</td>\n",
              "      <td>0</td>\n",
              "      <td>0</td>\n",
              "      <td>0</td>\n",
              "      <td>0</td>\n",
              "      <td>1</td>\n",
              "      <td>0</td>\n",
              "      <td>1</td>\n",
              "      <td>0</td>\n",
              "    </tr>\n",
              "    <tr>\n",
              "      <th>6</th>\n",
              "      <td>0</td>\n",
              "      <td>0</td>\n",
              "      <td>0</td>\n",
              "      <td>0</td>\n",
              "      <td>0</td>\n",
              "      <td>0</td>\n",
              "      <td>0</td>\n",
              "      <td>0</td>\n",
              "      <td>1</td>\n",
              "      <td>1</td>\n",
              "      <td>0</td>\n",
              "      <td>0</td>\n",
              "    </tr>\n",
              "    <tr>\n",
              "      <th>7</th>\n",
              "      <td>0</td>\n",
              "      <td>0</td>\n",
              "      <td>0</td>\n",
              "      <td>0</td>\n",
              "      <td>0</td>\n",
              "      <td>0</td>\n",
              "      <td>0</td>\n",
              "      <td>0</td>\n",
              "      <td>1</td>\n",
              "      <td>1</td>\n",
              "      <td>1</td>\n",
              "      <td>0</td>\n",
              "    </tr>\n",
              "    <tr>\n",
              "      <th>8</th>\n",
              "      <td>0</td>\n",
              "      <td>0</td>\n",
              "      <td>0</td>\n",
              "      <td>0</td>\n",
              "      <td>0</td>\n",
              "      <td>0</td>\n",
              "      <td>0</td>\n",
              "      <td>1</td>\n",
              "      <td>0</td>\n",
              "      <td>0</td>\n",
              "      <td>0</td>\n",
              "      <td>0</td>\n",
              "    </tr>\n",
              "    <tr>\n",
              "      <th>9</th>\n",
              "      <td>0</td>\n",
              "      <td>0</td>\n",
              "      <td>0</td>\n",
              "      <td>0</td>\n",
              "      <td>0</td>\n",
              "      <td>0</td>\n",
              "      <td>0</td>\n",
              "      <td>1</td>\n",
              "      <td>0</td>\n",
              "      <td>0</td>\n",
              "      <td>1</td>\n",
              "      <td>0</td>\n",
              "    </tr>\n",
              "    <tr>\n",
              "      <th>10</th>\n",
              "      <td>0</td>\n",
              "      <td>0</td>\n",
              "      <td>0</td>\n",
              "      <td>0</td>\n",
              "      <td>0</td>\n",
              "      <td>0</td>\n",
              "      <td>0</td>\n",
              "      <td>1</td>\n",
              "      <td>0</td>\n",
              "      <td>1</td>\n",
              "      <td>0</td>\n",
              "      <td>0</td>\n",
              "    </tr>\n",
              "    <tr>\n",
              "      <th>11</th>\n",
              "      <td>0</td>\n",
              "      <td>0</td>\n",
              "      <td>0</td>\n",
              "      <td>0</td>\n",
              "      <td>0</td>\n",
              "      <td>0</td>\n",
              "      <td>0</td>\n",
              "      <td>1</td>\n",
              "      <td>0</td>\n",
              "      <td>1</td>\n",
              "      <td>1</td>\n",
              "      <td>0</td>\n",
              "    </tr>\n",
              "    <tr>\n",
              "      <th>12</th>\n",
              "      <td>0</td>\n",
              "      <td>0</td>\n",
              "      <td>0</td>\n",
              "      <td>0</td>\n",
              "      <td>0</td>\n",
              "      <td>0</td>\n",
              "      <td>0</td>\n",
              "      <td>1</td>\n",
              "      <td>1</td>\n",
              "      <td>0</td>\n",
              "      <td>0</td>\n",
              "      <td>0</td>\n",
              "    </tr>\n",
              "    <tr>\n",
              "      <th>13</th>\n",
              "      <td>0</td>\n",
              "      <td>0</td>\n",
              "      <td>0</td>\n",
              "      <td>0</td>\n",
              "      <td>0</td>\n",
              "      <td>0</td>\n",
              "      <td>0</td>\n",
              "      <td>1</td>\n",
              "      <td>1</td>\n",
              "      <td>0</td>\n",
              "      <td>1</td>\n",
              "      <td>0</td>\n",
              "    </tr>\n",
              "  </tbody>\n",
              "</table>\n",
              "</div>"
            ],
            "text/plain": [
              "    bx0  bx1  bx2  bx3  bx4  bx5  bx6  bx7  bx8  bx9  bx10  LABEL\n",
              "0     0    0    0    0    0    0    0    0    0    0     0      0\n",
              "1     0    0    0    0    0    0    0    0    0    0     1      0\n",
              "2     0    0    0    0    0    0    0    0    0    1     0      0\n",
              "3     0    0    0    0    0    0    0    0    0    1     1      0\n",
              "4     0    0    0    0    0    0    0    0    1    0     0      0\n",
              "5     0    0    0    0    0    0    0    0    1    0     1      0\n",
              "6     0    0    0    0    0    0    0    0    1    1     0      0\n",
              "7     0    0    0    0    0    0    0    0    1    1     1      0\n",
              "8     0    0    0    0    0    0    0    1    0    0     0      0\n",
              "9     0    0    0    0    0    0    0    1    0    0     1      0\n",
              "10    0    0    0    0    0    0    0    1    0    1     0      0\n",
              "11    0    0    0    0    0    0    0    1    0    1     1      0\n",
              "12    0    0    0    0    0    0    0    1    1    0     0      0\n",
              "13    0    0    0    0    0    0    0    1    1    0     1      0"
            ]
          },
          "metadata": {
            "tags": []
          }
        },
        {
          "output_type": "stream",
          "text": [
            "\n",
            "Displaying top 14 out of 2048\n"
          ],
          "name": "stdout"
        }
      ]
    },
    {
      "cell_type": "markdown",
      "metadata": {
        "id": "NlknpkuH8NmO",
        "colab_type": "text"
      },
      "source": [
        "# Defining evolution parameters"
      ]
    },
    {
      "cell_type": "markdown",
      "metadata": {
        "id": "yS7vw4lb8U37",
        "colab_type": "text"
      },
      "source": [
        "Legal nodes in tree"
      ]
    },
    {
      "cell_type": "code",
      "metadata": {
        "id": "fuhSqVNG8Rpa",
        "colab_type": "code",
        "colab": {}
      },
      "source": [
        "pset = gp.PrimitiveSet(\"MAIN\", MUX_TOTAL_LINES, \"IN\")\n",
        "pset.addPrimitive(operator.and_, 2)\n",
        "pset.addPrimitive(operator.or_, 2)\n",
        "pset.addPrimitive(operator.not_, 1)\n",
        "pset.addPrimitive(if_then_else, 3)\n",
        "pset.addTerminal(1)\n",
        "pset.addTerminal(0)"
      ],
      "execution_count": 0,
      "outputs": []
    },
    {
      "cell_type": "markdown",
      "metadata": {
        "id": "Ey5b-k3-8ddL",
        "colab_type": "text"
      },
      "source": [
        "Evolution parameters"
      ]
    },
    {
      "cell_type": "code",
      "metadata": {
        "id": "zGPE3bVe8fjr",
        "colab_type": "code",
        "colab": {}
      },
      "source": [
        "creator.create(\"FitnessMax\", base.Fitness, weights=(1.0,))\n",
        "creator.create(\"Individual\", gp.PrimitiveTree, fitness=creator.FitnessMax)\n",
        "\n",
        "toolbox = base.Toolbox()\n",
        "toolbox.register(\"expr\", gp.genFull, pset=pset, min_=2, max_=4)\n",
        "toolbox.register(\"individual\", tools.initIterate, creator.Individual, toolbox.expr)\n",
        "toolbox.register(\"population\", tools.initRepeat, list, toolbox.individual)\n",
        "toolbox.register(\"compile\", gp.compile, pset=pset)"
      ],
      "execution_count": 0,
      "outputs": []
    },
    {
      "cell_type": "markdown",
      "metadata": {
        "id": "n_TbKsQi8isb",
        "colab_type": "text"
      },
      "source": [
        "Support functions"
      ]
    },
    {
      "cell_type": "code",
      "metadata": {
        "id": "ENOBVrIy8g8U",
        "colab_type": "code",
        "colab": {}
      },
      "source": [
        "evaluation_counter = 0\n",
        "\n",
        "def individual_to_function(individual):\n",
        "    return toolbox.compile(expr=individual)\n",
        "\n",
        "\n",
        "def apply_function_to_df(func, dataset=None):\n",
        "  if dataset is None:\n",
        "    dataset =  datadf[datacols]\n",
        "  results = datadf[datacols].apply(lambda r: func(*r.values), axis=1)\n",
        "  return results\n",
        "\n",
        "\n",
        "def evalMultiplexer(individual):\n",
        "    global evaluation_counter\n",
        "    evaluation_counter += 1\n",
        "    func = individual_to_function(individual)\n",
        "    results = apply_function_to_df(func)\n",
        "    fitness = (results == datadf[labelcol]).sum()\n",
        "    max_score = len(datadf)\n",
        "    fitness_score = fitness / max_score\n",
        "    return fitness_score,"
      ],
      "execution_count": 0,
      "outputs": []
    },
    {
      "cell_type": "code",
      "metadata": {
        "id": "Ltlkqqns86Kb",
        "colab_type": "code",
        "colab": {}
      },
      "source": [
        "toolbox.register(\"evaluate\", evalMultiplexer)\n",
        "toolbox.register(\"select\", tools.selTournament, tournsize=7)\n",
        "toolbox.register(\"mate\", gp.cxOnePoint)\n",
        "toolbox.register(\"expr_mut\", gp.genGrow, min_=0, max_=2)\n",
        "toolbox.register(\"mutate\", gp.mutUniform, expr=toolbox.expr_mut, pset=pset)"
      ],
      "execution_count": 0,
      "outputs": []
    },
    {
      "cell_type": "markdown",
      "metadata": {
        "id": "VfTma72189oA",
        "colab_type": "text"
      },
      "source": [
        "# Evolution part"
      ]
    },
    {
      "cell_type": "code",
      "metadata": {
        "id": "GlMt2rUt9BOl",
        "colab_type": "code",
        "colab": {}
      },
      "source": [
        "toolbox.register(\"evaluate\", evalMultiplexer)\n",
        "toolbox.register(\"select\", tools.selTournament, tournsize=7)\n",
        "toolbox.register(\"mate\", gp.cxOnePoint)\n",
        "toolbox.register(\"expr_mut\", gp.genGrow, min_=0, max_=2)\n",
        "toolbox.register(\"mutate\", gp.mutUniform, expr=toolbox.expr_mut, pset=pset)"
      ],
      "execution_count": 0,
      "outputs": []
    },
    {
      "cell_type": "code",
      "metadata": {
        "id": "n_itS_Ui9Ctj",
        "colab_type": "code",
        "colab": {
          "base_uri": "https://localhost:8080/",
          "height": 567
        },
        "outputId": "fd562a16-4291-4784-9984-9ccdf9bedfce"
      },
      "source": [
        "    # random.seed(10)\n",
        "    pop = toolbox.population(n=25)\n",
        "    hof = tools.HallOfFame(1)\n",
        "    stats = tools.Statistics(lambda ind: ind.fitness.values)\n",
        "    stats.register(\"avg\", numpy.mean)\n",
        "    stats.register(\"std\", numpy.std)\n",
        "    stats.register(\"min\", numpy.min)\n",
        "    stats.register(\"max\", numpy.max)\n",
        "\n",
        "    print(\"Starting evolution.\")\n",
        "    start_time = datetime.now()\n",
        "    algorithms.eaSimple(pop, toolbox, cxpb=0.8, mutpb=0.1, ngen=25, stats=stats, halloffame=hof)\n",
        "    duration = datetime.now() - start_time\n",
        "    print(\"Run concluded.\")\n",
        "    print(\"Evaluations commited: {}\".format(evaluation_counter))\n",
        "    print(\"Run time: {}\".format(duration))\n",
        "    winner_creature = hof.items[0]\n",
        "    winner_function = individual_to_function(winner_creature)"
      ],
      "execution_count": 21,
      "outputs": [
        {
          "output_type": "stream",
          "text": [
            "Starting evolution.\n",
            "gen\tnevals\tavg     \tstd      \tmin   \tmax     \n",
            "0  \t25    \t0.504297\t0.0421875\t0.4375\t0.578125\n",
            "1  \t21    \t0.549219\t0.0195156\t0.5   \t0.578125\n",
            "2  \t20    \t0.561094\t0.0248747\t0.46875\t0.59375 \n",
            "3  \t21    \t0.574219\t0.0126938\t0.546875\t0.59375 \n",
            "4  \t18    \t0.576094\t0.0192992\t0.53125 \t0.59375 \n",
            "5  \t20    \t0.584219\t0.0149086\t0.53125 \t0.59375 \n",
            "6  \t20    \t0.584375\t0.0182217\t0.53125 \t0.59375 \n",
            "7  \t22    \t0.580781\t0.0190958\t0.53125 \t0.609375\n",
            "8  \t18    \t0.585469\t0.0207383\t0.5     \t0.609375\n",
            "9  \t22    \t0.587656\t0.0204347\t0.515625\t0.625   \n",
            "10 \t22    \t0.59375 \t0.0274662\t0.53125 \t0.625   \n",
            "11 \t16    \t0.603125\t0.0279508\t0.546875\t0.625   \n",
            "12 \t18    \t0.608281\t0.0259469\t0.5625  \t0.625   \n",
            "13 \t23    \t0.594688\t0.0317399\t0.53125 \t0.625   \n",
            "14 \t18    \t0.600781\t0.032476 \t0.5     \t0.625   \n",
            "15 \t16    \t0.61625 \t0.0212316\t0.5625  \t0.65625 \n",
            "16 \t20    \t0.603125\t0.0296464\t0.546875\t0.65625 \n",
            "17 \t18    \t0.610938\t0.0402628\t0.5     \t0.65625 \n",
            "18 \t20    \t0.624687\t0.0295209\t0.5625  \t0.65625 \n",
            "19 \t22    \t0.612187\t0.0356907\t0.546875\t0.65625 \n",
            "20 \t21    \t0.615625\t0.0321738\t0.546875\t0.65625 \n",
            "21 \t23    \t0.61375 \t0.0373748\t0.546875\t0.65625 \n",
            "22 \t16    \t0.63625 \t0.0304651\t0.5625  \t0.65625 \n",
            "23 \t23    \t0.621875\t0.0318689\t0.5625  \t0.65625 \n",
            "24 \t19    \t0.62875 \t0.0310242\t0.5625  \t0.65625 \n",
            "25 \t22    \t0.64125 \t0.0255716\t0.5625  \t0.65625 \n",
            "Run concluded.\n",
            "Evaluations commited: 524\n",
            "Run time: 0:00:06.585496\n"
          ],
          "name": "stdout"
        }
      ]
    },
    {
      "cell_type": "markdown",
      "metadata": {
        "id": "P_JfSPKP9x7b",
        "colab_type": "text"
      },
      "source": [
        "# Analyze results"
      ]
    },
    {
      "cell_type": "code",
      "metadata": {
        "id": "qRMsSICB9LV0",
        "colab_type": "code",
        "colab": {}
      },
      "source": [
        "predictions = apply_function_to_df(winner_function)\n",
        "true_results = datadf[labelcol]"
      ],
      "execution_count": 0,
      "outputs": []
    },
    {
      "cell_type": "code",
      "metadata": {
        "id": "REKNyDwb98MF",
        "colab_type": "code",
        "colab": {}
      },
      "source": [
        "from sklearn.metrics import plot_confusion_matrix\n",
        "\n",
        "# Plot non-normalized confusion matrix\n",
        "titles_options = [(\"Confusion matrix, without normalization\", None),\n",
        "                  (\"Normalized confusion matrix\", 'true')]\n",
        "for title, normalize in titles_options:\n",
        "    disp = plot_confusion_matrix(classifier, X_test, y_test,\n",
        "                                 display_labels=class_names,\n",
        "                                 cmap=plt.cm.Blues,\n",
        "                                 normalize=normalize)\n",
        "    disp.ax_.set_title(title)\n",
        "\n",
        "    print(title)\n",
        "    print(disp.confusion_matrix)\n",
        "\n",
        "plt.show()"
      ],
      "execution_count": 0,
      "outputs": []
    }
  ]
}