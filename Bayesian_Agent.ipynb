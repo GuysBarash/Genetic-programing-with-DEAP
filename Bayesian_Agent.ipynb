{
  "nbformat": 4,
  "nbformat_minor": 0,
  "metadata": {
    "colab": {
      "name": "Bayesian Agent.ipynb",
      "provenance": [],
      "authorship_tag": "ABX9TyMR8UykEpu7p7rQmZH5RLvq",
      "include_colab_link": true
    },
    "kernelspec": {
      "name": "python3",
      "display_name": "Python 3"
    },
    "language_info": {
      "name": "python"
    }
  },
  "cells": [
    {
      "cell_type": "markdown",
      "metadata": {
        "id": "view-in-github",
        "colab_type": "text"
      },
      "source": [
        "<a href=\"https://colab.research.google.com/github/GuysBarash/Genetic-programing-with-DEAP/blob/master/Bayesian_Agent.ipynb\" target=\"_parent\"><img src=\"https://colab.research.google.com/assets/colab-badge.svg\" alt=\"Open In Colab\"/></a>"
      ]
    },
    {
      "cell_type": "code",
      "metadata": {
        "id": "hGkeBEOhfP-r"
      },
      "source": [
        "%matplotlib inline\n",
        "\n",
        "import pandas as pd\n",
        "import numpy as np\n",
        "import matplotlib.pyplot as plt\n",
        "import matplotlib\n",
        "import seaborn as sns\n",
        "\n",
        "from scipy.optimize import minimize_scalar\n",
        "from scipy.stats import beta\n",
        "from scipy.stats import binom\n",
        "from scipy.stats import bernoulli\n",
        "\n",
        "from matplotlib import animation\n",
        "from IPython.display import HTML, clear_output\n",
        "from matplotlib import rc\n",
        "\n",
        "matplotlib.use('Agg')"
      ],
      "execution_count": 299,
      "outputs": []
    },
    {
      "cell_type": "code",
      "metadata": {
        "id": "bbHWxBY3l-Be"
      },
      "source": [
        "agent_truth_p = 0.88 #@param {type: \"slider\", min: 0.0, max: 1.0, step:0.01}\n",
        "\n",
        "repeats = 700\n",
        "starting_guess_for_b = 1\n",
        "starting_guess_for_a = 1"
      ],
      "execution_count": 300,
      "outputs": []
    },
    {
      "cell_type": "markdown",
      "metadata": {
        "id": "EuHH9j2nnM8n"
      },
      "source": [
        "# Example"
      ]
    },
    {
      "cell_type": "code",
      "metadata": {
        "id": "6fPIHIbefW43"
      },
      "source": [
        "def plotPrior(a, b):\n",
        "  fig = plt.figure()\n",
        "  ax = plt.axes()\n",
        "  plt.xlim(0, 1)\n",
        "  x = np.linspace(0, 1, 1000)\n",
        "  y = beta.pdf(x, a, b)\n",
        "  x_guess = x[y.argmax()]\n",
        "  ax.plot(x, y);\n",
        "\n",
        "  maximal_point = ax.axvline(x=x_guess, label=f'Best guess for prior: {x_guess:>.2f}');\n",
        "  ax.legend();\n",
        "  return"
      ],
      "execution_count": 301,
      "outputs": []
    },
    {
      "cell_type": "markdown",
      "metadata": {
        "id": "vJCRWcNdz1v6"
      },
      "source": [
        "The agent has a chance of \"p\" of telling the truth, and a chance of 1-p of randomly selecting an answer"
      ]
    },
    {
      "cell_type": "code",
      "metadata": {
        "id": "_bvSpQDVfZNn"
      },
      "source": [
        "def agentDecision(real_answer,options,agent_truth_p):\n",
        "    choice = bernoulli.rvs(agent_truth_p)\n",
        "    if choice == 1:\n",
        "        return real_answer\n",
        "    else:\n",
        "        choice = bernoulli.rvs(0.5)\n",
        "        if choice == 1:\n",
        "            return options[0]\n",
        "        else:\n",
        "            return options[1]"
      ],
      "execution_count": 302,
      "outputs": []
    },
    {
      "cell_type": "code",
      "metadata": {
        "id": "x3U7rdU0fecP"
      },
      "source": [
        "b = starting_guess_for_b\n",
        "a = starting_guess_for_a"
      ],
      "execution_count": 303,
      "outputs": []
    },
    {
      "cell_type": "markdown",
      "metadata": {
        "id": "GtjhkKEi0IKo"
      },
      "source": [
        "Prior before any testing takes place. You can see it's balanced."
      ]
    },
    {
      "cell_type": "code",
      "metadata": {
        "colab": {
          "base_uri": "https://localhost:8080/",
          "height": 282
        },
        "id": "n4lPXjiOffLf",
        "outputId": "88556cd7-5122-49bb-e82a-020c37d50ef5"
      },
      "source": [
        "print(\"p = \", a / (a + b))\n",
        "plotPrior(a, b)"
      ],
      "execution_count": 304,
      "outputs": [
        {
          "output_type": "stream",
          "text": [
            "p =  0.5\n"
          ],
          "name": "stdout"
        },
        {
          "output_type": "display_data",
          "data": {
            "image/png": "[encoded data removed]",
            "text/plain": [
              "<Figure size 432x288 with 1 Axes>"
            ]
          },
          "metadata": {
            "tags": [],
            "needs_background": "light"
          }
        }
      ]
    },
    {
      "cell_type": "code",
      "metadata": {
        "id": "jGVPS8gLfquh"
      },
      "source": [
        "\n",
        "agent_log = pd.DataFrame(index=range(repeats),columns=['a','b','Real type','Agent answer','Agent is correct'])\n",
        "data_validity_types = [\"BAD\",\"GOOD\"]"
      ],
      "execution_count": 305,
      "outputs": []
    },
    {
      "cell_type": "code",
      "metadata": {
        "id": "81tukjx1jW0p"
      },
      "source": [
        "for i in range(repeats):\n",
        "  data_is_valid = np.random.choice(data_validity_types)\n",
        "  agent_response_on_the_data = agentDecision(data_is_valid,data_validity_types,agent_truth_p)\n",
        "  agent_is_correct = data_is_valid == agent_response_on_the_data\n",
        "  agent_log.loc[i,['Real type','Agent answer','Agent is correct']] = data_is_valid, agent_response_on_the_data, agent_is_correct\n",
        "\n",
        "  # a and b update dynamically each step\n",
        "  a += int(agent_is_correct)\n",
        "  b += int(not agent_is_correct)\n",
        "  agent_log.loc[i,['a','b']] = a, b"
      ],
      "execution_count": 306,
      "outputs": []
    },
    {
      "cell_type": "code",
      "metadata": {
        "colab": {
          "base_uri": "https://localhost:8080/"
        },
        "id": "HS2I2IoOgbjf",
        "outputId": "a58d93a5-4c2d-4054-9d00-c3f4b28a508b"
      },
      "source": [
        "correct_answers = agent_log['Agent is correct'].sum()\n",
        "total_answers = agent_log['Agent is correct'].count()\n",
        "percentage = 0\n",
        "if total_answers > 0:\n",
        "  percentage = float(correct_answers) / total_answers\n",
        "print(f\"Agent was right {correct_answers}/{total_answers} ({100 * percentage:>.2f} %) of the times.\")"
      ],
      "execution_count": 307,
      "outputs": [
        {
          "output_type": "stream",
          "text": [
            "Agent was right 662/700 (94.57 %) of the times.\n"
          ],
          "name": "stdout"
        }
      ]
    },
    {
      "cell_type": "code",
      "metadata": {
        "colab": {
          "base_uri": "https://localhost:8080/",
          "height": 265
        },
        "id": "wxET4n1biNrA",
        "outputId": "57e2977c-701b-495b-ee24-cf332150b3e7"
      },
      "source": [
        "plotPrior(a, b)"
      ],
      "execution_count": 308,
      "outputs": [
        {
          "output_type": "display_data",
          "data": {
            "image/png": "[encoded data removed]",
            "text/plain": [
              "<Figure size 432x288 with 1 Axes>"
            ]
          },
          "metadata": {
            "tags": [],
            "needs_background": "light"
          }
        }
      ]
    },
    {
      "cell_type": "markdown",
      "metadata": {
        "id": "4rLkaY6GnI4f"
      },
      "source": [
        "# Dynamic example"
      ]
    },
    {
      "cell_type": "code",
      "metadata": {
        "id": "9dKZY93dnP4W"
      },
      "source": [
        "# create a figure and axes\n",
        "fig = plt.figure(figsize=(12,5));\n",
        "ax = plt.subplot(1,1,1);\n",
        "\n",
        "# set up the subplots as needed\n",
        "ax.set_xlim(( 0, 1));            \n",
        "ax.set_ylim((0, 10));\n",
        "\n",
        "# create objects that will change in the animation. These are\n",
        "# initially empty, and will be given new values for each frame\n",
        "# in the animation.\n",
        "txt_title = ax.set_title('');\n",
        "maximal_point = ax.axvline(x=0, label='line at x = {}'.format(0));\n",
        "line1, = ax.plot([], [], 'b', lw=2);     # ax.plot returns a list of 2D line objects\n",
        "clear_output()\n",
        "plt.close('all')"
      ],
      "execution_count": 309,
      "outputs": []
    },
    {
      "cell_type": "code",
      "metadata": {
        "id": "BpVugWoNnTZU"
      },
      "source": [
        "\n",
        "def getPriorFrame(frame_n):\n",
        "  global agent_log\n",
        "\n",
        "  a = agent_log.loc[frame_n,'a']\n",
        "  b = agent_log.loc[frame_n,'b']\n",
        "  x = np.linspace(0, 1, 1000)\n",
        "  y = beta.pdf(x, a, b)\n",
        "  x_guess = x[y.argmax()]\n",
        "  ax.legend()\n",
        "  maximal_point.set_xdata(x_guess)\n",
        "  maximal_point.set_label(f'Best guess for prior: {x_guess:>.2f}')\n",
        "\n",
        "  line1.set_data(x, y)\n",
        "  txt_title.set_text(f'Agent step = {frame_n:4d}, a = {a}, b= {b}')\n",
        "  return line1,\n",
        "\n",
        "num_of_steps = 50\n",
        "frames =[0]+ list(range(0, len(agent_log), int(len(agent_log) / num_of_steps))) + [agent_log.index[-1]]\n",
        "ani = animation.FuncAnimation(fig, getPriorFrame, frames,\n",
        "                              interval=100, blit=True)\n",
        "rc('animation', html='html5')\n",
        "ani"
      ],
      "execution_count": null,
      "outputs": []
    }
  ]
}